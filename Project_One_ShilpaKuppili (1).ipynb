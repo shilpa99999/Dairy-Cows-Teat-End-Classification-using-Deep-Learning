{
  "cells": [
    {
      "cell_type": "markdown",
      "source": [
        "# 1. Build your own convolutional neural network using pytorch"
      ],
      "metadata": {
        "id": "ueAodBbKf3Qe"
      }
    },
    {
      "cell_type": "code",
      "execution_count": null,
      "metadata": {
        "colab": {
          "base_uri": "https://localhost:8080/"
        },
        "id": "TEBovMdg2DQZ",
        "outputId": "9104378c-36ea-49cc-c749-48e4da7f863a"
      },
      "outputs": [
        {
          "output_type": "stream",
          "name": "stdout",
          "text": [
            "Cloning into 'SCTL'...\n",
            "remote: Enumerating objects: 148, done.\u001b[K\n",
            "remote: Counting objects: 100% (64/64), done.\u001b[K\n",
            "remote: Compressing objects: 100% (61/61), done.\u001b[K\n",
            "remote: Total 148 (delta 37), reused 5 (delta 3), pack-reused 84\u001b[K\n",
            "Receiving objects: 100% (148/148), 75.55 MiB | 22.17 MiB/s, done.\n",
            "Resolving deltas: 100% (57/57), done.\n"
          ]
        }
      ],
      "source": [
        "!git clone https://github.com/YoushanZhang/SCTL.git"
      ]
    },
    {
      "cell_type": "code",
      "execution_count": null,
      "metadata": {
        "colab": {
          "base_uri": "https://localhost:8080/"
        },
        "id": "97gOE4VS2wxi",
        "outputId": "858807bf-5348-450a-df10-e65d3add06d3"
      },
      "outputs": [
        {
          "output_type": "stream",
          "name": "stdout",
          "text": [
            "Archive:  SCTL/Train_1.zip\n",
            "   creating: Train/Score_1/\n",
            "  inflating: Train/Score_1/20200724_093921_LH_C1_PP_M.jpg  \n",
            "  inflating: Train/Score_1/20200724_093926_LF_C1_PN_M.jpg  \n",
            "  inflating: Train/Score_1/20200724_093926_RH_C1_PN_M.jpg  \n",
            "  inflating: Train/Score_1/20200724_093930_RH_C1_PN_M.jpg  \n",
            "  inflating: Train/Score_1/20200724_093935_LH_C1_PP_M.jpg  \n",
            "  inflating: Train/Score_1/20200724_093940_LF_C1_PN_M.jpg  \n",
            "  inflating: Train/Score_1/20200724_093940_RF_C1_PN_M.jpg  \n",
            "  inflating: Train/Score_1/20200724_094011_LF_C1_PN_M.jpg  \n",
            "  inflating: Train/Score_1/20200724_094011_RF_C1_PN_M.jpg  \n",
            "  inflating: Train/Score_1/20200724_094011_RH_C1_PN_M.jpg  \n",
            "  inflating: Train/Score_1/20200724_094108_LH_C1_PN_M.jpg  \n",
            "  inflating: Train/Score_1/20200724_094108_RH_C1_PN_M.jpg  \n",
            "  inflating: Train/Score_1/20200724_094117_LF_C1_PN_M.jpg  \n",
            "  inflating: Train/Score_1/20200724_094117_RF_C1_PN_M.jpg  \n",
            "  inflating: Train/Score_1/20200724_094122_LF_C1_PN_M.jpg  \n",
            "  inflating: Train/Score_1/20200724_094122_RF_C1_PN_M.jpg  \n",
            "  inflating: Train/Score_1/20200724_094140_LF_C1_PP_M.jpg  \n",
            "  inflating: Train/Score_1/20200724_094140_LH_C1_PP_M.jpg  \n",
            "  inflating: Train/Score_1/20200724_094140_RH_C1_PP_M.jpg  \n",
            "  inflating: Train/Score_1/20200724_094148_RF_C1_PN_M.jpg  \n",
            "  inflating: Train/Score_1/20200724_094202_LH_C1_PP_M.jpg  \n",
            "  inflating: Train/Score_1/20200724_094202_RF_C1_PP_M.jpg  \n",
            "  inflating: Train/Score_1/20200724_094229_LH_C1_PN_M.jpg  \n",
            "  inflating: Train/Score_1/20200724_094229_RH_C1_PN_M.jpg  \n",
            "  inflating: Train/Score_1/20200724_094234_LF_C1_PP_M.jpg  \n",
            "  inflating: Train/Score_1/20200724_094234_LH_C1_PN_M.jpg  \n",
            "  inflating: Train/Score_1/20200724_094234_RH_C1_PN_M.jpg  \n",
            "  inflating: Train/Score_1/20200724_094250_LH_C1_PN_M.jpg  \n",
            "  inflating: Train/Score_1/20200724_094250_RF_C1_PN_M.jpg  \n",
            "  inflating: Train/Score_1/20200724_094259_LF_C1_PP_M.jpg  \n",
            "  inflating: Train/Score_1/20200724_094259_LH_C1_PP_M.jpg  \n",
            "  inflating: Train/Score_1/20200724_094259_RF_C1_PP_M.jpg  \n",
            "  inflating: Train/Score_1/20200724_094259_RH_C1_PP_M.jpg  \n",
            "  inflating: Train/Score_1/20200724_094321_RF_C1_PP_M.jpg  \n",
            "  inflating: Train/Score_1/20200724_094326_RF_C1_PP_M.jpg  \n",
            "  inflating: Train/Score_1/20200724_094330_LF_C1_PN_M.jpg  \n",
            "  inflating: Train/Score_1/20200724_094330_LH_C1_PN_M.jpg  \n",
            "  inflating: Train/Score_1/20200724_094330_RF_C1_PP_M.jpg  \n",
            "  inflating: Train/Score_1/20200724_094330_RH_C1_PN_M.jpg  \n",
            "  inflating: Train/Score_1/20200724_094414_LH_C1_PN_M.jpg  \n",
            "  inflating: Train/Score_1/20200724_094414_RH_C1_PN_M.jpg  \n",
            "  inflating: Train/Score_1/20200724_094424_RF_C1_PN_M.jpg  \n",
            "  inflating: Train/Score_1/20200724_094424_RH_C1_PN_M.jpg  \n",
            "  inflating: Train/Score_1/20200724_094429_LH_C1_PN_M.jpg  \n",
            "  inflating: Train/Score_1/20200724_094433_LF_C1_PP_M.jpg  \n",
            "  inflating: Train/Score_1/20200724_094433_LH_C1_PN_M.jpg  \n",
            "  inflating: Train/Score_1/20200724_094433_RF_C1_PP_M.jpg  \n",
            "  inflating: Train/Score_1/20200724_094448_LF_C1_PP_M.jpg  \n",
            "  inflating: Train/Score_1/20200724_094448_LH_C1_PP_M.jpg  \n",
            "  inflating: Train/Score_1/20200724_094448_RF_C1_PP_M.jpg  \n",
            "  inflating: Train/Score_1/20200724_094448_RH_C1_PP_M.jpg  \n",
            "  inflating: Train/Score_1/20200724_094453_LH_C1_PN_M.jpg  \n",
            "  inflating: Train/Score_1/20200724_094453_RF_C1_PP_M.jpg  \n",
            "  inflating: Train/Score_1/20200724_094453_RH_C1_PN_M.jpg  \n",
            "  inflating: Train/Score_1/20200724_094504_RH_C1_PP_M.jpg  \n",
            "  inflating: Train/Score_1/20200724_094519_RF_C1_PN_M.jpg  \n",
            "  inflating: Train/Score_1/20200724_094519_RH_C1_PN_M.jpg  \n",
            "  inflating: Train/Score_1/20200724_094525_RH_C1_PN_M.jpg  \n",
            "  inflating: Train/Score_1/20200724_094529_LF_C1_PP_M.jpg  \n",
            "  inflating: Train/Score_1/20200724_094529_LH_C1_PP_M.jpg  \n",
            "  inflating: Train/Score_1/20200724_094533_LF_C1_PP_M.jpg  \n",
            "  inflating: Train/Score_1/20200724_094533_LH_C1_PN_M.jpg  \n",
            "  inflating: Train/Score_1/20200724_094533_RF_C1_PN_M.jpg  \n",
            "  inflating: Train/Score_1/20200724_094533_RH_C1_PN_M.jpg  \n",
            "  inflating: Train/Score_1/20200724_094541_RF_C1_PN_M.jpg  \n",
            "  inflating: Train/Score_1/20200724_094541_RH_C1_PN_M.jpg  \n",
            "  inflating: Train/Score_1/20200724_094546_LF_C1_PN_M.jpg  \n",
            "  inflating: Train/Score_1/20200724_094546_RF_C1_PN_M.jpg  \n",
            "  inflating: Train/Score_1/20200724_094549_LF_C1_PP_M.jpg  \n",
            "  inflating: Train/Score_1/20200724_094549_LH_C1_PN_M.jpg  \n",
            "  inflating: Train/Score_1/20200724_094549_RF_C1_PP_M.jpg  \n",
            "  inflating: Train/Score_1/20200724_094549_RH_C1_PN_M.jpg  \n",
            "  inflating: Train/Score_1/20200724_094553_LF_C1_PN_M.jpg  \n",
            "  inflating: Train/Score_1/20200724_094553_RF_C1_PN_M.jpg  \n",
            "  inflating: Train/Score_1/20200724_094553_RH_C1_PN_M.jpg  \n",
            "  inflating: Train/Score_1/20200724_094614_RH_C1_PN_M.jpg  \n",
            "  inflating: Train/Score_1/20200724_094619_LF_C1_PN_M.jpg  \n",
            "  inflating: Train/Score_1/20200724_094619_RF_C1_PP_M.jpg  \n",
            "  inflating: Train/Score_1/20200724_094623_LH_C1_PP_M.jpg  \n",
            "  inflating: Train/Score_1/20200724_094633_LF_C1_PN_M.jpg  \n",
            "  inflating: Train/Score_1/20200724_094633_LH_C1_PN_M.jpg  \n",
            "  inflating: Train/Score_1/20200724_094633_RH_C1_PN_M.jpg  \n",
            "  inflating: Train/Score_1/20200724_094644_RH_C1_PN_M.jpg  \n",
            "  inflating: Train/Score_1/20200724_094649_LF_C1_PN_M.jpg  \n",
            "  inflating: Train/Score_1/20200724_094649_LH_C1_PN_M.jpg  \n",
            "  inflating: Train/Score_1/20200724_094649_RF_C1_PN_M.jpg  \n",
            "  inflating: Train/Score_1/20200724_094649_RH_C1_PN_M.jpg  \n",
            "  inflating: Train/Score_1/20200724_094654_LF_C1_PP_M.jpg  \n",
            "  inflating: Train/Score_1/20200724_094659_LF_C1_PP_M.jpg  \n",
            "  inflating: Train/Score_1/20200724_094659_LH_C1_PN_M.jpg  \n",
            "  inflating: Train/Score_1/20200724_094659_RH_C1_PP_M.jpg  \n",
            "  inflating: Train/Score_1/20200724_094705_LF_C1_PN_M.jpg  \n",
            "  inflating: Train/Score_1/20200724_094716_RH_C1_PP_M.jpg  \n",
            "  inflating: Train/Score_1/20200724_094721_LF_C1_PP_M.jpg  \n",
            "  inflating: Train/Score_1/20200724_094721_LH_C1_PP_M.jpg  \n",
            "  inflating: Train/Score_1/20200724_094721_RF_C1_PP_M.jpg  \n",
            "  inflating: Train/Score_1/20200724_094721_RH_C1_PP_M.jpg  \n",
            "  inflating: Train/Score_1/20200724_094736_LF_C1_PN_M.jpg  \n",
            "  inflating: Train/Score_1/20200724_094736_LH_C1_PN_M.jpg  \n",
            "  inflating: Train/Score_1/20200724_094736_RF_C1_PN_M.jpg  \n",
            "  inflating: Train/Score_1/20200724_094738_LF_C1_PN_M.jpg  \n",
            "  inflating: Train/Score_1/20200724_094738_LH_C1_PN_M.jpg  \n",
            "  inflating: Train/Score_1/20200724_094738_RF_C1_PN_M.jpg  \n",
            "  inflating: Train/Score_1/20200724_094742_LF_C1_PP_M.jpg  \n",
            "  inflating: Train/Score_1/20200724_094742_RF_C1_PP_M.jpg  \n",
            "  inflating: Train/Score_1/20200724_094742_RH_C1_PP_M.jpg  \n",
            "  inflating: Train/Score_1/20200724_094747_LF_C1_PN_M.jpg  \n",
            "  inflating: Train/Score_1/20200724_094747_RF_C1_PP_M.jpg  \n",
            "  inflating: Train/Score_1/20200724_094752_LH_C1_PN_M.jpg  \n",
            "  inflating: Train/Score_1/20200724_094752_RF_C1_PP_M.jpg  \n",
            "  inflating: Train/Score_1/20200724_094752_RH_C1_PN_M.jpg  \n",
            "  inflating: Train/Score_1/20200724_094811_RH_C1_PN_M.jpg  \n",
            "  inflating: Train/Score_1/20200724_094819_LH_C1_PN_M.jpg  \n",
            "  inflating: Train/Score_1/20200724_094819_RF_C1_PP_M.jpg  \n",
            "  inflating: Train/Score_1/20200724_094824_RH_C1_PN_M.jpg  \n",
            "  inflating: Train/Score_1/20200724_094839_RF_C1_PP_M.jpg  \n",
            "  inflating: Train/Score_1/20200724_094839_RH_C1_PP_M.jpg  \n",
            "  inflating: Train/Score_1/20200724_094846_LH_C1_PN_M.jpg  \n",
            "  inflating: Train/Score_1/20200724_094846_RF_C1_PN_M.jpg  \n",
            "  inflating: Train/Score_1/20200724_094846_RH_C1_PN_M.jpg  \n",
            "  inflating: Train/Score_1/20200724_094854_LH_C1_PN_M.jpg  \n",
            "  inflating: Train/Score_1/20200724_094854_RF_C1_PN_M.jpg  \n",
            "  inflating: Train/Score_1/20200724_094854_RH_C1_PN_M.jpg  \n",
            "  inflating: Train/Score_1/20200724_094905_LH_C1_PN_M.jpg  \n",
            "  inflating: Train/Score_1/20200724_094905_RF_C1_PN_M.jpg  \n",
            "  inflating: Train/Score_1/20200724_094909_LH_C1_PP_M.jpg  \n",
            "  inflating: Train/Score_1/20200724_094909_RF_C1_PP_M.jpg  \n",
            "  inflating: Train/Score_1/20200724_094915_LF_C1_PN_M.jpg  \n",
            "  inflating: Train/Score_1/20200724_094915_LH_C1_PN_M.jpg  \n",
            "  inflating: Train/Score_1/20200724_094915_RF_C1_PN_M.jpg  \n",
            "  inflating: Train/Score_1/20200724_094915_RH_C1_PN_M.jpg  \n",
            "  inflating: Train/Score_1/20200724_094919_LF_C1_PN_M.jpg  \n",
            "  inflating: Train/Score_1/20200724_094919_LH_C1_PN_M.jpg  \n",
            "  inflating: Train/Score_1/20200724_094919_RF_C1_PP_M.jpg  \n",
            "  inflating: Train/Score_1/20200724_094924_LF_C1_PN_M.jpg  \n",
            "  inflating: Train/Score_1/20200724_094924_RF_C1_PN_M.jpg  \n",
            "  inflating: Train/Score_1/20200724_094929_LF_C1_PP_M.jpg  \n",
            "  inflating: Train/Score_1/20200724_094929_LH_C1_PP_M.jpg  \n",
            "  inflating: Train/Score_1/20200724_094936_LF_C1_PN_M.jpg  \n",
            "  inflating: Train/Score_1/20200724_094936_LH_C1_PN_M.jpg  \n",
            "  inflating: Train/Score_1/20200724_094936_RH_C1_PN_M.jpg  \n",
            "  inflating: Train/Score_1/20200724_094941_LF_C1_PN_M.jpg  \n",
            "  inflating: Train/Score_1/20200724_094941_LH_C1_PN_M.jpg  \n",
            "  inflating: Train/Score_1/20200724_094946_LF_C1_PP_M.jpg  \n",
            "  inflating: Train/Score_1/20200724_094946_LH_C1_PP_M.jpg  \n",
            "  inflating: Train/Score_1/20200724_094946_RF_C1_PP_M.jpg  \n",
            "  inflating: Train/Score_1/20200724_094951_LH_C1_PP_M.jpg  \n",
            "  inflating: Train/Score_1/20200724_094951_RF_C1_PP_M.jpg  \n",
            "  inflating: Train/Score_1/20200724_094956_LF_C1_PP_M.jpg  \n",
            "  inflating: Train/Score_1/20200724_094956_RF_C1_PN_M.jpg  \n",
            "  inflating: Train/Score_1/20200724_095001_LF_C1_PP_M.jpg  \n",
            "  inflating: Train/Score_1/20200724_095001_LH_C1_PP_M.jpg  \n",
            "  inflating: Train/Score_1/20200724_095001_RH_C1_PP_M.jpg  \n",
            "  inflating: Train/Score_1/20200724_095006_LF_C1_PN_M.jpg  \n",
            "  inflating: Train/Score_1/20200724_095006_RH_C1_PN_M.jpg  \n",
            "  inflating: Train/Score_1/20200724_095010_LF_C1_PP_M.jpg  \n",
            "  inflating: Train/Score_1/20200724_095025_LF_C1_PP_M.jpg  \n",
            "  inflating: Train/Score_1/20200724_095025_LH_C1_PP_M.jpg  \n",
            "  inflating: Train/Score_1/20200724_095025_RF_C1_PP_M.jpg  \n",
            "  inflating: Train/Score_1/20200724_095025_RH_C1_PP_M.jpg  \n",
            "  inflating: Train/Score_1/20200724_095029_LF_C1_PP_M.jpg  \n",
            "  inflating: Train/Score_1/20200724_095029_RF_C1_PP_M.jpg  \n",
            "  inflating: Train/Score_1/20200724_095029_RH_C1_PP_M.jpg  \n",
            "  inflating: Train/Score_1/20200724_095034_RF_C1_PN_M.jpg  \n",
            "  inflating: Train/Score_1/20200724_095044_LF_C1_PN_M.jpg  \n",
            "  inflating: Train/Score_1/20200724_095044_RH_C1_PN_M.jpg  \n",
            "  inflating: Train/Score_1/20200724_095055_LF_C1_PP_M.jpg  \n",
            "  inflating: Train/Score_1/20200724_095055_LH_C1_PP_M.jpg  \n",
            "  inflating: Train/Score_1/20200724_095055_RH_C1_PP_M.jpg  \n",
            "  inflating: Train/Score_1/20200724_095059_LF_C1_PN_M.jpg  \n",
            "  inflating: Train/Score_1/20200724_095059_RF_C1_PP_M.jpg  \n",
            "  inflating: Train/Score_1/20200724_095059_RH_C1_PN_M.jpg  \n",
            "  inflating: Train/Score_1/20200724_095105_LF_C1_PP_M.jpg  \n",
            "  inflating: Train/Score_1/20200724_095105_LH_C1_PN_M.jpg  \n",
            "  inflating: Train/Score_1/20200724_095105_RH_C1_PN_M.jpg  \n",
            "  inflating: Train/Score_1/20200724_095114_LF_C1_PP_M.jpg  \n",
            "  inflating: Train/Score_1/20200724_095114_LH_C1_PP_M.jpg  \n",
            "  inflating: Train/Score_1/20200724_095123_LH_C1_PP_M.jpg  \n",
            "  inflating: Train/Score_1/20200724_095123_RF_C1_PP_M.jpg  \n",
            "  inflating: Train/Score_1/20200724_095132_RF_C1_PN_M.jpg  \n",
            "  inflating: Train/Score_1/20200724_095132_RH_C1_PN_M.jpg  \n",
            "  inflating: Train/Score_1/20200724_095138_LH_C1_PN_M.jpg  \n",
            "  inflating: Train/Score_1/20200724_095138_RF_C1_PN_M.jpg  \n",
            "  inflating: Train/Score_1/20200724_095138_RH_C1_PN_M.jpg  \n",
            "  inflating: Train/Score_1/20200724_095145_LF_C1_PN_M.jpg  \n",
            "  inflating: Train/Score_1/20200724_095145_LH_C1_PN_M.jpg  \n",
            "  inflating: Train/Score_1/20200724_095145_RF_C1_PN_M.jpg  \n",
            "  inflating: Train/Score_1/20200724_095145_RH_C1_PN_M.jpg  \n",
            "  inflating: Train/Score_1/20200724_095151_LF_C1_PN_M.jpg  \n",
            "  inflating: Train/Score_1/20200724_095158_LF_C1_PN_M.jpg  \n",
            "  inflating: Train/Score_1/20200724_095158_RF_C1_PP_M.jpg  \n",
            "  inflating: Train/Score_1/20200724_095205_LH_C1_PP_M.jpg  \n",
            "  inflating: Train/Score_1/20200724_095205_RF_C1_PP_M.jpg  \n",
            "  inflating: Train/Score_1/20200724_095217_LF_C1_PP_M.jpg  \n",
            "  inflating: Train/Score_1/20200724_095217_LH_C1_PP_M.jpg  \n",
            "  inflating: Train/Score_1/20200724_095217_RF_C1_PP_M.jpg  \n",
            "  inflating: Train/Score_1/20200724_095217_RH_C1_PP_M.jpg  \n",
            "  inflating: Train/Score_1/20200724_095433_LF_C1_PN_M.jpg  \n",
            "  inflating: Train/Score_1/20200724_095433_LH_C1_PN_M.jpg  \n",
            "  inflating: Train/Score_1/20200724_095433_RF_C1_PN_M.jpg  \n",
            "  inflating: Train/Score_1/20200724_095433_RH_C1_PN_M.jpg  \n",
            "  inflating: Train/Score_1/20200724_095439_RF_C1_PN_M.jpg  \n",
            "  inflating: Train/Score_1/20200724_095443_RH_C1_PP_M.jpg  \n",
            "  inflating: Train/Score_1/20200724_095450_RF_C1_PP_M.jpg  \n",
            "  inflating: Train/Score_1/20200724_095450_RH_C1_PP_M.jpg  \n",
            "  inflating: Train/Score_1/20200724_095455_LF_C1_PN_M.jpg  \n",
            "  inflating: Train/Score_1/20200724_095455_LH_C1_PN_M.jpg  \n",
            "  inflating: Train/Score_1/20200724_095455_RF_C1_PN_M.jpg  \n",
            "  inflating: Train/Score_1/20200724_095455_RH_C1_PN_M.jpg  \n",
            "  inflating: Train/Score_1/20200724_095500_RH_C1_PN_M.jpg  \n",
            "  inflating: Train/Score_1/20200724_095510_LF_C1_PP_M.jpg  \n",
            "  inflating: Train/Score_1/20200724_095510_RF_C1_PN_M.jpg  \n",
            "  inflating: Train/Score_1/20200724_095515_LF_C1_PP_M.jpg  \n",
            "  inflating: Train/Score_1/20200724_095515_LH_C1_PP_M.jpg  \n",
            "  inflating: Train/Score_1/20200724_095528_LH_C1_PP_M.jpg  \n",
            "  inflating: Train/Score_1/20200724_095532_LF_C1_PP_M.jpg  \n",
            "  inflating: Train/Score_1/20200724_095532_LH_C1_PN_M.jpg  \n",
            "  inflating: Train/Score_1/20200724_095532_RF_C1_PP_M.jpg  \n",
            "  inflating: Train/Score_1/20200724_095538_LF_C1_PN_M.jpg  \n",
            "  inflating: Train/Score_1/20200724_095538_RF_C1_PN_M.jpg  \n",
            "  inflating: Train/Score_1/20200724_095542_LF_C1_PN_M.jpg  \n",
            "  inflating: Train/Score_1/20200724_095542_LH_C1_PN_M.jpg  \n",
            "  inflating: Train/Score_1/20200724_095542_RF_C1_PP_M.jpg  \n",
            "  inflating: Train/Score_1/20200724_095547_LF_C1_PP_M.jpg  \n",
            "  inflating: Train/Score_1/20200724_095551_LF_C1_PP_M.jpg  \n",
            "  inflating: Train/Score_1/20200724_095551_RF_C1_PP_M.jpg  \n",
            "  inflating: Train/Score_1/20200724_095551_RH_C1_PP_M.jpg  \n",
            "  inflating: Train/Score_1/20200724_095556_RF_C1_PN_M.jpg  \n",
            "  inflating: Train/Score_1/20200724_095556_RH_C1_PP_M.jpg  \n",
            "  inflating: Train/Score_1/20200724_095601_LF_C1_PN_M.jpg  \n",
            "  inflating: Train/Score_1/20200724_095610_LF_C1_PN_M.jpg  \n",
            "  inflating: Train/Score_1/20200724_095614_LH_C1_PN_M.jpg  \n",
            "  inflating: Train/Score_1/20200724_095614_RH_C1_PN_M.jpg  \n",
            "  inflating: Train/Score_1/20200724_095618_LF_C1_PP_M.jpg  \n",
            "  inflating: Train/Score_1/20200724_095618_LH_C1_PP_M.jpg  \n",
            "  inflating: Train/Score_1/20200724_095618_RF_C1_PP_M.jpg  \n",
            "  inflating: Train/Score_1/20200724_095618_RH_C1_PP_M.jpg  \n",
            "  inflating: Train/Score_1/20200724_095637_LF_C1_PN_M.jpg  \n",
            "  inflating: Train/Score_1/20200724_095637_LH_C1_PN_M.jpg  \n",
            "  inflating: Train/Score_1/20200724_095637_RF_C1_PP_M.jpg  \n",
            "  inflating: Train/Score_1/20200724_095655_LF_C1_PP_M.jpg  \n",
            "  inflating: Train/Score_1/20200724_095655_LH_C1_PP_M.jpg  \n",
            "  inflating: Train/Score_1/20200724_095655_RH_C1_PP_M.jpg  \n",
            "  inflating: Train/Score_1/20200724_095659_LF_C1_PN_M.jpg  \n",
            "  inflating: Train/Score_1/20200724_095659_RF_C1_PN_M.jpg  \n",
            "  inflating: Train/Score_1/20200724_095704_LF_C1_PP_M.jpg  \n",
            "  inflating: Train/Score_1/20200724_095704_RF_C1_PN_M.jpg  \n",
            "  inflating: Train/Score_1/20200724_095709_LF_C1_PN_M.jpg  \n",
            "  inflating: Train/Score_1/20200724_095709_LH_C1_PN_M.jpg  \n",
            "  inflating: Train/Score_1/20200724_095717_LF_C1_PP_M.jpg  \n",
            "  inflating: Train/Score_1/20200724_095717_RH_C1_PP_M.jpg  \n",
            "  inflating: Train/Score_1/20200724_095722_LF_C1_PP_M.jpg  \n",
            "  inflating: Train/Score_1/20200724_095722_RH_C1_PN_M.jpg  \n",
            "  inflating: Train/Score_1/20200724_095726_LF_C1_PN_M.jpg  \n",
            "  inflating: Train/Score_1/20200724_095726_LH_C1_PN_M.jpg  \n",
            "  inflating: Train/Score_1/20200724_095726_RF_C1_PN_M.jpg  \n",
            "  inflating: Train/Score_1/20200724_095726_RH_C1_PN_M.jpg  \n",
            "  inflating: Train/Score_1/20200724_095734_LF_C1_PP_M.jpg  \n",
            "  inflating: Train/Score_1/20200724_095734_RH_C1_PN_M.jpg  \n",
            "  inflating: Train/Score_1/20200724_095746_LH_C1_PN_M.jpg  \n",
            "  inflating: Train/Score_1/20200724_095746_RF_C1_PN_M.jpg  \n",
            "  inflating: Train/Score_1/20200724_095746_RH_C1_PN_M.jpg  \n",
            "  inflating: Train/Score_1/20200724_095749_LH_C1_PP_M.jpg  \n",
            "  inflating: Train/Score_1/20200724_095755_LF_C1_PP_M.jpg  \n",
            "  inflating: Train/Score_1/20200724_095755_LH_C1_PP_M.jpg  \n",
            "  inflating: Train/Score_1/20200724_102856_LF_C1_PN_M.jpg  \n",
            "  inflating: Train/Score_1/20200724_102856_LH_C1_PN_M.jpg  \n",
            "  inflating: Train/Score_1/20200724_102856_RF_C1_PN_M.jpg  \n",
            "  inflating: Train/Score_1/20200724_102856_RH_C1_PN_M.jpg  \n",
            "  inflating: Train/Score_1/20200724_102901_LF_C1_PP_M.jpg  \n",
            "  inflating: Train/Score_1/20200724_102901_LH_C1_PP_M.jpg  \n",
            "  inflating: Train/Score_1/20200724_102901_RH_C1_PP_M.jpg  \n",
            "  inflating: Train/Score_1/20200724_102905_LF_C1_PN_M.jpg  \n",
            "  inflating: Train/Score_1/20200724_102905_LH_C1_PN_M.jpg  \n",
            "  inflating: Train/Score_1/20200724_102905_RF_C1_PN_M.jpg  \n",
            "  inflating: Train/Score_1/20200724_102910_LF_C1_PN_M.jpg  \n",
            "  inflating: Train/Score_1/20200724_102915_LF_C1_PP_M.jpg  \n",
            "  inflating: Train/Score_1/20200724_102915_RF_C1_PP_M.jpg  \n",
            "  inflating: Train/Score_1/20200724_102915_RH_C1_PN_M.jpg  \n",
            "  inflating: Train/Score_1/20200724_102920_LF_C1_PP_M.jpg  \n",
            "  inflating: Train/Score_1/20200724_102920_LH_C1_PP_M.jpg  \n",
            "  inflating: Train/Score_1/20200724_102920_RF_C1_PP_M.jpg  \n",
            "  inflating: Train/Score_1/20200724_102920_RH_C1_PP_M.jpg  \n",
            "  inflating: Train/Score_1/20200724_102957_LF_C1_PN_M.jpg  \n",
            "  inflating: Train/Score_1/20200724_102957_LH_C1_PN_M.jpg  \n",
            "  inflating: Train/Score_1/20200724_102957_RF_C1_PN_M.jpg  \n",
            "  inflating: Train/Score_1/20200724_103001_LH_C1_PP_M.jpg  \n",
            "  inflating: Train/Score_1/20200724_103001_RF_C1_PN_M.jpg  \n",
            "  inflating: Train/Score_1/20200724_103001_RH_C1_PN_M.jpg  \n",
            "  inflating: Train/Score_1/20200724_103005_LF_C1_PN_M.jpg  \n",
            "  inflating: Train/Score_1/20200724_103005_LH_C1_PN_M.jpg  \n",
            "  inflating: Train/Score_1/20200724_103005_RF_C1_PN_M.jpg  \n",
            "  inflating: Train/Score_1/20200724_103005_RH_C1_PN_M.jpg  \n",
            "  inflating: Train/Score_1/20200724_103010_LH_C1_PN_M.jpg  \n",
            "  inflating: Train/Score_1/20200724_103017_LF_C1_PN_M.jpg  \n",
            "  inflating: Train/Score_1/20200724_103017_LH_C1_PN_M.jpg  \n",
            "  inflating: Train/Score_1/20200724_103017_RF_C1_PN_M.jpg  \n",
            "  inflating: Train/Score_1/20200724_103021_LF_C1_PN_M.jpg  \n",
            "  inflating: Train/Score_1/20200724_103021_RF_C1_PP_M.jpg  \n",
            "  inflating: Train/Score_1/20200724_103021_RH_C1_PN_M.jpg  \n",
            "  inflating: Train/Score_1/20200724_103027_LF_C1_PN_M.jpg  \n",
            "  inflating: Train/Score_1/20200724_103027_LH_C1_PP_M.jpg  \n",
            "  inflating: Train/Score_1/20200724_103027_RF_C1_PN_M.jpg  \n",
            "  inflating: Train/Score_1/20200724_103027_RH_C1_PP_M.jpg  \n",
            "  inflating: Train/Score_1/20200724_103031_LF_C1_PN_M.jpg  \n",
            "  inflating: Train/Score_1/20200724_103031_RF_C1_PN_M.jpg  \n",
            "  inflating: Train/Score_1/20200724_103051_LH_C1_PN_M.jpg  \n",
            "  inflating: Train/Score_1/20200724_103051_RF_C1_PP_M.jpg  \n",
            "  inflating: Train/Score_1/20200724_103051_RH_C1_PN_M.jpg  \n",
            "  inflating: Train/Score_1/20200724_103056_RF_C1_PP_M.jpg  \n",
            "  inflating: Train/Score_1/20200724_103123_LF_C1_PP_M.jpg  \n",
            "  inflating: Train/Score_1/20200724_103123_LH_C1_PP_M.jpg  \n",
            "  inflating: Train/Score_1/20200724_103123_RF_C1_PP_M.jpg  \n",
            "  inflating: Train/Score_1/20200724_103123_RH_C1_PN_M.jpg  \n",
            "  inflating: Train/Score_1/20200724_103134_LH_C1_PN_M.jpg  \n",
            "  inflating: Train/Score_1/20200724_103134_RF_C1_PN_M.jpg  \n",
            "  inflating: Train/Score_1/20200724_103134_RH_C1_PN_M.jpg  \n",
            "  inflating: Train/Score_1/20200724_103141_LF_C1_PP_M.jpg  \n",
            "  inflating: Train/Score_1/20200724_103141_LH_C1_PP_M.jpg  \n",
            "  inflating: Train/Score_1/20200724_103141_RF_C1_PP_M.jpg  \n",
            "  inflating: Train/Score_1/20200724_103141_RH_C1_PP_M.jpg  \n",
            "  inflating: Train/Score_1/20200724_103146_LF_C1_PN_M.jpg  \n",
            "  inflating: Train/Score_1/20200724_103146_RF_C1_PP_M.jpg  \n",
            "  inflating: Train/Score_1/20200724_103151_LH_C1_PP_M.jpg  \n",
            "  inflating: Train/Score_1/20200724_103151_RH_C1_PP_M.jpg  \n",
            "  inflating: Train/Score_1/20200724_103155_LF_C1_PN_M.jpg  \n",
            "  inflating: Train/Score_1/20200724_103155_LH_C1_PN_M.jpg  \n",
            "  inflating: Train/Score_1/20200724_103155_RF_C1_PN_M.jpg  \n",
            "  inflating: Train/Score_1/20200724_103155_RH_C1_PN_M.jpg  \n",
            "  inflating: Train/Score_1/20200724_103159_LF_C1_PP_M.jpg  \n",
            "  inflating: Train/Score_1/20200724_103159_RF_C1_PN_M.jpg  \n",
            "  inflating: Train/Score_1/20200724_103212_RF_C1_PP_M.jpg  \n",
            "  inflating: Train/Score_1/20200724_103225_LF_C1_PP_M.jpg  \n",
            "  inflating: Train/Score_1/20200724_103225_LH_C1_PN_M.jpg  \n",
            "  inflating: Train/Score_1/20200724_103225_RF_C1_PN_M.jpg  \n",
            "  inflating: Train/Score_1/20200724_103225_RH_C1_PP_M.jpg  \n",
            "  inflating: Train/Score_1/20200724_103233_LF_C1_PN_M.jpg  \n",
            "  inflating: Train/Score_1/20200724_103244_LF_C1_PP_M.jpg  \n",
            "  inflating: Train/Score_1/20200724_103244_LH_C1_PP_M.jpg  \n",
            "  inflating: Train/Score_1/20200724_103244_RH_C1_PP_M.jpg  \n",
            "  inflating: Train/Score_1/20200724_103249_LF_C1_PN_M.jpg  \n",
            "  inflating: Train/Score_1/20200724_103249_LH_C1_PN_M.jpg  \n",
            "  inflating: Train/Score_1/20200724_103249_RF_C1_PP_M.jpg  \n",
            "  inflating: Train/Score_1/20200724_103258_LF_C1_PN_M.jpg  \n",
            "  inflating: Train/Score_1/20200724_103258_RH_C1_PN_M.jpg  \n",
            "  inflating: Train/Score_1/20200724_103303_LF_C1_PN_M.jpg  \n",
            "  inflating: Train/Score_1/20200724_103303_LH_C1_PN_M.jpg  \n",
            "  inflating: Train/Score_1/20200724_103303_RH_C1_PN_M.jpg  \n",
            "  inflating: Train/Score_1/20200724_103308_LH_C1_PN_M.jpg  \n",
            "  inflating: Train/Score_1/20200724_103308_RF_C1_PN_M.jpg  \n",
            "  inflating: Train/Score_1/20200724_103308_RH_C1_PN_M.jpg  \n",
            "  inflating: Train/Score_1/20200724_103314_LF_C1_PP_M.jpg  \n",
            "  inflating: Train/Score_1/20200724_103314_RF_C1_PP_M.jpg  \n",
            "  inflating: Train/Score_1/20200724_103314_RH_C1_PN_M.jpg  \n",
            "  inflating: Train/Score_1/20200724_103319_LF_C1_PP_M.jpg  \n",
            "  inflating: Train/Score_1/20200724_103319_LH_C1_PP_M.jpg  \n",
            "  inflating: Train/Score_1/20200724_103319_RH_C1_PP_M.jpg  \n",
            "  inflating: Train/Score_1/20200724_103323_RH_C1_PP_M.jpg  \n",
            "  inflating: Train/Score_1/20200724_103329_LH_C1_PN_M.jpg  \n",
            "  inflating: Train/Score_1/20200724_103329_RH_C1_PN_M.jpg  \n",
            "  inflating: Train/Score_1/20200724_103334_LF_C1_PP_M.jpg  \n",
            "  inflating: Train/Score_1/20200724_103334_RF_C1_PN_M.jpg  \n",
            "  inflating: Train/Score_1/20200724_103334_RH_C1_PN_M.jpg  \n",
            "  inflating: Train/Score_1/20200724_103342_LH_C1_PN_M.jpg  \n",
            "  inflating: Train/Score_1/20200724_103342_RF_C1_PN_M.jpg  \n",
            "  inflating: Train/Score_1/20200724_103342_RH_C1_PN_M.jpg  \n",
            "  inflating: Train/Score_1/20200724_103350_LH_C1_PN_M.jpg  \n",
            "  inflating: Train/Score_1/20200724_103356_RF_C1_PP_M.jpg  \n",
            "  inflating: Train/Score_1/20200724_103401_LF_C1_PN_M.jpg  \n",
            "  inflating: Train/Score_1/20200724_103401_LH_C1_PP_M.jpg  \n",
            "  inflating: Train/Score_1/20200724_103401_RF_C1_PN_M.jpg  \n",
            "  inflating: Train/Score_1/20200724_103401_RH_C1_PN_M.jpg  \n",
            "  inflating: Train/Score_1/20200724_103406_LH_C1_PN_M.jpg  \n",
            "  inflating: Train/Score_1/20200724_103416_LF_C1_PN_M.jpg  \n",
            "  inflating: Train/Score_1/20200724_103416_RF_C1_PN_M.jpg  \n",
            "  inflating: Train/Score_1/20200724_103423_LH_C1_PP_M.jpg  \n",
            "  inflating: Train/Score_1/20200724_103423_RF_C1_PP_M.jpg  \n",
            "  inflating: Train/Score_1/20200724_103441_LF_C1_PN_M.jpg  \n",
            "  inflating: Train/Score_1/20200724_103445_LF_C1_PN_M.jpg  \n",
            "  inflating: Train/Score_1/20200724_103445_RF_C1_PP_M.jpg  \n",
            "  inflating: Train/Score_1/20200724_103451_RH_C1_PN_M.jpg  \n",
            "  inflating: Train/Score_1/20200724_103513_LF_C1_PN_M.jpg  \n",
            "  inflating: Train/Score_1/20200724_103513_LH_C1_PN_M.jpg  \n",
            "  inflating: Train/Score_1/20200724_103513_RF_C1_PN_M.jpg  \n",
            "  inflating: Train/Score_1/20200724_103520_LF_C1_PP_M.jpg  \n",
            "  inflating: Train/Score_1/20200724_103520_LH_C1_PN_M.jpg  \n",
            "  inflating: Train/Score_1/20200724_103520_RF_C1_PP_M.jpg  \n",
            "  inflating: Train/Score_1/20200724_103520_RH_C1_PN_M.jpg  \n",
            "  inflating: Train/Score_1/R10_0815_43_crop_RH_C1_PN_m.jpg  \n",
            "  inflating: Train/Score_1/R10_0825_59_crop_LH_C1_PN_m.jpg  \n",
            "  inflating: Train/Score_1/R11_0845_33_crop_LH_C1_PN_m.jpg  \n",
            "  inflating: Train/Score_1/R11_0845_33_crop_RF_C1_PN_m.jpg  \n",
            "  inflating: Train/Score_1/R11_0845_33_crop_RH_C1_PN_m.jpg  \n",
            "  inflating: Train/Score_1/R12_0871_4a_crop_RF_C1_PP_m.jpg  \n",
            "  inflating: Train/Score_1/R12_0873_7_crop_LH_C1_PN_m.jpg  \n",
            "  inflating: Train/Score_1/R12_0873_7_crop_RH_C1_PN_m.jpg  \n",
            "  inflating: Train/Score_1/R1_0474_45_crop_RF_C1_PN_m.jpg  \n",
            "  inflating: Train/Score_1/R1_0482_59_crop_RH_C1_PN_m.jpg  \n",
            "  inflating: Train/Score_1/R2_0484_1_crop_RF_C1_PP_m.jpg  \n",
            "  inflating: Train/Score_1/R2_0489_4_crop_LF_C1_PN_m.jpg  \n",
            "  inflating: Train/Score_1/R2_0489_4_crop_RH_C1_PN_m.jpg  \n",
            "  inflating: Train/Score_1/R2_0497_13_crop_RH_C1_PN_m.jpg  \n",
            "  inflating: Train/Score_1/R2_0502_42_crop_LH_C1_PP_m.jpg  \n",
            "  inflating: Train/Score_1/R2_0504_45_crop_RF_C1_PP_m.jpg  \n",
            "  inflating: Train/Score_1/R2_0506_47_crop_RH_C1_PP_m.jpg  \n",
            "  inflating: Train/Score_1/R2_0508_58_crop_RH_C1_PN_m.jpg  \n",
            "  inflating: Train/Score_1/R3_0511_2_crop_RF_C1_PN_m.jpg  \n",
            "  inflating: Train/Score_1/R3_0511_2_crop_RH_C1_PN_m.jpg  \n",
            "  inflating: Train/Score_1/R3_0513_7_crop_LF_C1_PN_m.jpg  \n",
            "  inflating: Train/Score_1/R3_0519_15_crop_LF_C1_PP_m.jpg  \n",
            "  inflating: Train/Score_1/R3_0541_47_crop_RF_C1_PN_m.jpg  \n",
            "  inflating: Train/Score_1/R4_0559_27_crop_LH_C1_PN_m.jpg  \n",
            "  inflating: Train/Score_1/R4_0571_38_crop_RH_C1_PN_m.jpg  \n",
            "  inflating: Train/Score_1/R4_0573_40_crop_LF_C1_PN_m.jpg  \n",
            "  inflating: Train/Score_1/R4_0587_56_crop_LH_C1_PN_m.jpg  \n",
            "  inflating: Train/Score_1/R4_0587_56_crop_RH_C1_PN_m.jpg  \n",
            "  inflating: Train/Score_1/R5_0592_21_crop_LF_C1_PN_m.jpg  \n",
            "  inflating: Train/Score_1/R5_0606_36_crop_RH_C1_PP_m.jpg  \n",
            "  inflating: Train/Score_1/R5_0610_40_crop_LF_C1_PP_m.jpg  \n",
            "  inflating: Train/Score_1/R5_0610_40_crop_RF_C1_PP_m.jpg  \n",
            "  inflating: Train/Score_1/R5_0615_45_crop_RH_C1_PN_m.jpg  \n",
            "  inflating: Train/Score_1/R6_0640_21_crop_LF_C1_PN_m.jpg  \n",
            "  inflating: Train/Score_1/R7_0651_1_crop_LH_C1_PP_m.jpg  \n",
            "  inflating: Train/Score_1/R7_0661_12_crop_RF_C1_PP_m.jpg  \n",
            "  inflating: Train/Score_1/R7_0661_12_crop_RH_C1_PP_m.jpg  \n",
            "  inflating: Train/Score_1/R7_0676_30_crop_LH_C1_PN_m.jpg  \n",
            "  inflating: Train/Score_1/R7_0676_30_crop_RH_C1_PN_m.jpg  \n",
            "  inflating: Train/Score_1/R7_0678_33_crop_RH_C1_PN_m.jpg  \n",
            "  inflating: Train/Score_1/R7_0682_36_crop_LH_C1_PN_m.jpg  \n",
            "  inflating: Train/Score_1/R7_0684_38_crop_LH_C1_PP_m.jpg  \n",
            "  inflating: Train/Score_1/R7_0702_58_crop_LH_C1_PN_m.jpg  \n",
            "  inflating: Train/Score_1/R7_0704_60_crop_LH_C1_PN_m.jpg  \n",
            "  inflating: Train/Score_1/R8_0718_24_crop_LF_C1_PP_m.jpg  \n",
            "  inflating: Train/Score_1/R8_0718_24_crop_RH_C1_PP_m.jpg  \n",
            "  inflating: Train/Score_1/R8_0720_26_crop_RH_C1_PN_m.jpg  \n",
            "  inflating: Train/Score_1/R8_0726_35_crop_LF_C1_PN_m.jpg  \n",
            "  inflating: Train/Score_1/R8_0728_37_crop_LF_C1_PN_m.jpg  \n",
            "  inflating: Train/Score_1/R8_0728_37_crop_RF_C1_PN_m.jpg  \n",
            "  inflating: Train/Score_1/R8_0740_51_crop_RH_C1_PN_m.jpg  \n",
            "  inflating: Train/Score_1/R9_0749_7_crop_LF_C1_PP_m.jpg  \n",
            "  inflating: Train/Score_1/R9_0749_7_crop_LH_C1_PN_m.jpg  \n",
            "  inflating: Train/Score_1/R9_0749_7_crop_RH_C1_PN_m.jpg  \n",
            "  inflating: Train/Score_1/R9_0757_14_crop_RF_C1_PN_m.jpg  \n",
            "  inflating: Train/Score_1/R9_0769_31_crop_LH_C1_PP_m.jpg  \n",
            "  inflating: Train/Score_1/R9_0769_31_crop_RH_C1_PP_m.jpg  \n",
            "  inflating: Train/Score_1/R9_0775_37_crop_LF_C1_PP_m.jpg  \n",
            "  inflating: Train/Score_1/R9_0775_37_crop_RH_C1_PP_m.jpg  \n",
            "  inflating: Train/Score_1/R9_0781_43_crop_LH_C1_PP_m.jpg  \n",
            "  inflating: Train/Score_1/R9_0787_50_crop_LH_C1_PN_m.jpg  \n",
            "  inflating: Train/Score_1/R9_0787_50_crop_RH_C1_PN_m.jpg  \n",
            "   creating: Train/Score_2/\n",
            "  inflating: Train/Score_2/20200724_093921_RH_C2_PP_M.jpg  \n",
            "  inflating: Train/Score_2/20200724_093926_RF_C2_PN_M.jpg  \n",
            "  inflating: Train/Score_2/20200724_093930_RF_C2_PN_M.jpg  \n",
            "  inflating: Train/Score_2/20200724_093935_LF_C2_PP_M.jpg  \n",
            "  inflating: Train/Score_2/20200724_093935_RH_C2_PP_M.jpg  \n",
            "  inflating: Train/Score_2/20200724_094011_LH_C2_PN_M.jpg  \n",
            "  inflating: Train/Score_2/20200724_094015_LH_C2_PN_M.jpg  \n",
            "  inflating: Train/Score_2/20200724_094015_RF_C2_PN_M.jpg  \n",
            "  inflating: Train/Score_2/20200724_094112_LF_C2_PP_M.jpg  \n",
            "  inflating: Train/Score_2/20200724_094112_LH_C2_PP_M.jpg  \n",
            "  inflating: Train/Score_2/20200724_094112_RF_C2_PP_M.jpg  \n",
            "  inflating: Train/Score_2/20200724_094112_RH_C2_PP_M.jpg  \n",
            "  inflating: Train/Score_2/20200724_094117_RH_C2_PN_M.jpg  \n",
            "  inflating: Train/Score_2/20200724_094122_LH_C2_PN_M.jpg  \n",
            "  inflating: Train/Score_2/20200724_094122_RH_C2_PN_M.jpg  \n",
            "  inflating: Train/Score_2/20200724_094135_LF_C2_PN_M.jpg  \n",
            "  inflating: Train/Score_2/20200724_094135_LH_C2_PN_M.jpg  \n",
            "  inflating: Train/Score_2/20200724_094135_RF_C2_PN_M.jpg  \n",
            "  inflating: Train/Score_2/20200724_094135_RH_C2_PN_M.jpg  \n",
            "  inflating: Train/Score_2/20200724_094140_RF_C2_PP_M.jpg  \n",
            "  inflating: Train/Score_2/20200724_094148_LF_C2_PN_M.jpg  \n",
            "  inflating: Train/Score_2/20200724_094157_RF_C2_PN_M.jpg  \n",
            "  inflating: Train/Score_2/20200724_094157_RH_C2_PN_M.jpg  \n",
            "  inflating: Train/Score_2/20200724_094202_LF_C2_PP_M.jpg  \n",
            "  inflating: Train/Score_2/20200724_094202_RH_C2_PP_M.jpg  \n",
            "  inflating: Train/Score_2/20200724_094207_LF_C2_PN_M.jpg  \n",
            "  inflating: Train/Score_2/20200724_094207_LH_C2_PN_M.jpg  \n",
            "  inflating: Train/Score_2/20200724_094207_RH_C2_PN_M.jpg  \n",
            "  inflating: Train/Score_2/20200724_094220_LF_C2_PN_M.jpg  \n",
            "  inflating: Train/Score_2/20200724_094220_LH_C2_PN_M.jpg  \n",
            "  inflating: Train/Score_2/20200724_094220_RF_C2_PN_M.jpg  \n",
            "  inflating: Train/Score_2/20200724_094220_RH_C2_PN_M.jpg  \n",
            "  inflating: Train/Score_2/20200724_094229_LF_C2_PN_M.jpg  \n",
            "  inflating: Train/Score_2/20200724_094229_RF_C2_PN_M.jpg  \n",
            "  inflating: Train/Score_2/20200724_094234_RF_C2_PP_M.jpg  \n",
            "  inflating: Train/Score_2/20200724_094321_RH_C2_PP_M.jpg  \n",
            "  inflating: Train/Score_2/20200724_094326_LH_C2_PN_M.jpg  \n",
            "  inflating: Train/Score_2/20200724_094337_RH_C2_PN_M.jpg  \n",
            "  inflating: Train/Score_2/20200724_094355_LH_C2_PN_M.jpg  \n",
            "  inflating: Train/Score_2/20200724_094355_RF_C2_PP_M.jpg  \n",
            "  inflating: Train/Score_2/20200724_094355_RH_C2_PN_M.jpg  \n",
            "  inflating: Train/Score_2/20200724_094356_RF_C2_PP_M.jpg  \n",
            "  inflating: Train/Score_2/20200724_094414_RF_C2_PN_M.jpg  \n",
            "  inflating: Train/Score_2/20200724_094420_LF_C2_PN_M.jpg  \n",
            "  inflating: Train/Score_2/20200724_094420_RF_C2_PN_M.jpg  \n",
            "  inflating: Train/Score_2/20200724_094420_RH_C2_PN_M.jpg  \n",
            "  inflating: Train/Score_2/20200724_094424_LF_C2_PN_M.jpg  \n",
            "  inflating: Train/Score_2/20200724_094429_LF_C2_PP_M.jpg  \n",
            "  inflating: Train/Score_2/20200724_094429_RF_C2_PP_M.jpg  \n",
            "  inflating: Train/Score_2/20200724_094433_RH_C2_PN_M.jpg  \n",
            "  inflating: Train/Score_2/20200724_094504_LF_C2_PN_M.jpg  \n",
            "  inflating: Train/Score_2/20200724_094504_RF_C2_PN_M.jpg  \n",
            "  inflating: Train/Score_2/20200724_094509_LF_C2_PN_M.jpg  \n",
            "  inflating: Train/Score_2/20200724_094509_LH_C2_PN_M.jpg  \n",
            "  inflating: Train/Score_2/20200724_094509_RH_C2_PN_M.jpg  \n",
            "  inflating: Train/Score_2/20200724_094514_LH_C2_PN_M.jpg  \n",
            "  inflating: Train/Score_2/20200724_094514_RH_C2_PN_M.jpg  \n",
            "  inflating: Train/Score_2/20200724_094519_LF_C2_PN_M.jpg  \n",
            "  inflating: Train/Score_2/20200724_094525_LF_C2_PN_M.jpg  \n",
            "  inflating: Train/Score_2/20200724_094525_RF_C2_PN_M.jpg  \n",
            "  inflating: Train/Score_2/20200724_094537_LF_C2_PP_M.jpg  \n",
            "  inflating: Train/Score_2/20200724_094537_LH_C2_PP_M.jpg  \n",
            "  inflating: Train/Score_2/20200724_094537_RF_C2_PP_M.jpg  \n",
            "  inflating: Train/Score_2/20200724_094537_RH_C2_PP_M.jpg  \n",
            "  inflating: Train/Score_2/20200724_094541_LH_C2_PN_M.jpg  \n",
            "  inflating: Train/Score_2/20200724_094546_RH_C2_PN_M.jpg  \n",
            "  inflating: Train/Score_2/20200724_094553_LH_C2_PN_M.jpg  \n",
            "  inflating: Train/Score_2/20200724_094614_RF_C2_PN_M.jpg  \n",
            "  inflating: Train/Score_2/20200724_094619_RH_C2_PN_M.jpg  \n",
            "  inflating: Train/Score_2/20200724_094623_LF_C2_PP_M.jpg  \n",
            "  inflating: Train/Score_2/20200724_094623_RH_C2_PP_M.jpg  \n",
            "  inflating: Train/Score_2/20200724_094644_LH_C2_PN_M.jpg  \n",
            "  inflating: Train/Score_2/20200724_094644_RF_C2_PN_M.jpg  \n",
            "  inflating: Train/Score_2/20200724_094654_LH_C2_PN_M.jpg  \n",
            "  inflating: Train/Score_2/20200724_094705_RH_C2_PN_M.jpg  \n",
            "  inflating: Train/Score_2/20200724_094710_LH_C2_PN_M.jpg  \n",
            "  inflating: Train/Score_2/20200724_094726_LH_C2_PP_M.jpg  \n",
            "  inflating: Train/Score_2/20200724_094736_RH_C2_PN_M.jpg  \n",
            "  inflating: Train/Score_2/20200724_094738_RH_C2_PN_M.jpg  \n",
            "  inflating: Train/Score_2/20200724_094811_LH_C2_PN_M.jpg  \n",
            "  inflating: Train/Score_2/20200724_094828_LH_C2_PN_M.jpg  \n",
            "  inflating: Train/Score_2/20200724_094828_RH_C2_PN_M.jpg  \n",
            "  inflating: Train/Score_2/20200724_094846_LF_C2_PP_M.jpg  \n",
            "  inflating: Train/Score_2/20200724_094859_RF_C2_PP_M.jpg  \n",
            "  inflating: Train/Score_2/20200724_094859_RH_C2_PN_M.jpg  \n",
            "  inflating: Train/Score_2/20200724_094905_RH_C2_PN_M.jpg  \n",
            "  inflating: Train/Score_2/20200724_094909_RH_C2_PP_M.jpg  \n",
            "  inflating: Train/Score_2/20200724_094924_LH_C2_PN_M.jpg  \n",
            "  inflating: Train/Score_2/20200724_094941_RH_C2_PN_M.jpg  \n",
            "  inflating: Train/Score_2/20200724_094951_LF_C2_PP_M.jpg  \n",
            "  inflating: Train/Score_2/20200724_094956_LH_C2_PN_M.jpg  \n",
            "  inflating: Train/Score_2/20200724_094956_RH_C2_PN_M.jpg  \n",
            "  inflating: Train/Score_2/20200724_095006_RF_C2_PN_M.jpg  \n",
            "  inflating: Train/Score_2/20200724_095034_RH_C2_PP_M.jpg  \n",
            "  inflating: Train/Score_2/20200724_095044_LH_C2_PN_M.jpg  \n",
            "  inflating: Train/Score_2/20200724_095105_RF_C2_PN_M.jpg  \n",
            "  inflating: Train/Score_2/20200724_095158_RH_C2_PP_M.jpg  \n",
            "  inflating: Train/Score_2/20200724_095212_LF_C2_PP_M.jpg  \n",
            "  inflating: Train/Score_2/20200724_095212_LH_C2_PN_M.jpg  \n",
            "  inflating: Train/Score_2/20200724_095212_RF_C2_PP_M.jpg  \n",
            "  inflating: Train/Score_2/20200724_095212_RH_C2_PN_M.jpg  \n",
            "  inflating: Train/Score_2/20200724_095425_LF_C2_PP_M.jpg  \n",
            "  inflating: Train/Score_2/20200724_095425_LH_C2_PP_M.jpg  \n",
            "  inflating: Train/Score_2/20200724_095425_RF_C2_PP_M.jpg  \n",
            "  inflating: Train/Score_2/20200724_095425_RH_C2_PP_M.jpg  \n",
            "  inflating: Train/Score_2/20200724_095428_LF_C2_PP_M.jpg  \n",
            "  inflating: Train/Score_2/20200724_095428_LH_C2_PP_M.jpg  \n",
            "  inflating: Train/Score_2/20200724_095428_RF_C2_PP_M.jpg  \n",
            "  inflating: Train/Score_2/20200724_095428_RH_C2_PP_M.jpg  \n",
            "  inflating: Train/Score_2/20200724_095439_LF_C2_PP_M.jpg  \n",
            "  inflating: Train/Score_2/20200724_095450_LH_C2_PP_M.jpg  \n",
            "  inflating: Train/Score_2/20200724_095500_LF_C2_PN_M.jpg  \n",
            "  inflating: Train/Score_2/20200724_095505_RF_C2_PP_M.jpg  \n",
            "  inflating: Train/Score_2/20200724_095532_RH_C2_PN_M.jpg  \n",
            "  inflating: Train/Score_2/20200724_095601_LH_C2_PP_M.jpg  \n",
            "  inflating: Train/Score_2/20200724_095601_RH_C2_PN_M.jpg  \n",
            "  inflating: Train/Score_2/20200724_095605_LF_C2_PN_M.jpg  \n",
            "  inflating: Train/Score_2/20200724_095605_LH_C2_PN_M.jpg  \n",
            "  inflating: Train/Score_2/20200724_095605_RF_C2_PN_M.jpg  \n",
            "  inflating: Train/Score_2/20200724_095605_RH_C2_PN_M.jpg  \n",
            "  inflating: Train/Score_2/20200724_095614_RF_C2_PN_M.jpg  \n",
            "  inflating: Train/Score_2/20200724_095704_RH_C2_PP_M.jpg  \n",
            "  inflating: Train/Score_2/20200724_095722_RF_C2_PN_M.jpg  \n",
            "  inflating: Train/Score_2/20200724_095734_LH_C2_PP_M.jpg  \n",
            "  inflating: Train/Score_2/20200724_095746_LF_C2_PN_M.jpg  \n",
            "  inflating: Train/Score_2/20200724_095755_RF_C2_PP_M.jpg  \n",
            "  inflating: Train/Score_2/20200724_095755_RH_C2_PP_M.jpg  \n",
            "  inflating: Train/Score_2/20200724_102910_RF_C2_PN_M.jpg  \n",
            "  inflating: Train/Score_2/20200724_102910_RH_C2_PN_M.jpg  \n",
            "  inflating: Train/Score_2/20200724_103010_LF_C2_PN_M.jpg  \n",
            "  inflating: Train/Score_2/20200724_103010_RF_C2_PN_M.jpg  \n",
            "  inflating: Train/Score_2/20200724_103021_LH_C2_PN_M.jpg  \n",
            "  inflating: Train/Score_2/20200724_103056_LH_C2_PN_M.jpg  \n",
            "  inflating: Train/Score_2/20200724_103159_RH_C2_PN_M.jpg  \n",
            "  inflating: Train/Score_2/20200724_103212_RH_C2_PP_M.jpg  \n",
            "  inflating: Train/Score_2/20200724_103233_RF_C2_PN_M.jpg  \n",
            "  inflating: Train/Score_2/20200724_103323_LF_C2_PP_M.jpg  \n",
            "  inflating: Train/Score_2/20200724_103323_LH_C2_PN_M.jpg  \n",
            "  inflating: Train/Score_2/20200724_103323_RF_C2_PP_M.jpg  \n",
            "  inflating: Train/Score_2/20200724_103329_LF_C2_PN_M.jpg  \n",
            "  inflating: Train/Score_2/20200724_103347_LH_C2_PP_M.jpg  \n",
            "  inflating: Train/Score_2/20200724_103347_RF_C2_PN_M.jpg  \n",
            "  inflating: Train/Score_2/20200724_103406_RF_C2_PN_M.jpg  \n",
            "  inflating: Train/Score_2/20200724_103412_LH_C2_PN_M.jpg  \n",
            "  inflating: Train/Score_2/20200724_103412_RF_C2_PN_M.jpg  \n",
            "  inflating: Train/Score_2/20200724_103412_RH_C2_PN_M.jpg  \n",
            "  inflating: Train/Score_2/20200724_103416_RF_C2_PN_M.jpg  \n",
            "  inflating: Train/Score_2/20200724_103416_RH_C2_PN_M.jpg  \n",
            "  inflating: Train/Score_2/20200724_103445_RH_C2_PP_M.jpg  \n",
            "  inflating: Train/Score_2/20200724_103451_LF_C2_PN_M.jpg  \n",
            "  inflating: Train/Score_2/20200724_103451_LH_C2_PN_M.jpg  \n",
            "  inflating: Train/Score_2/R10_0797_4_crop_LF_C2_PP_m.jpg  \n",
            "  inflating: Train/Score_2/R10_0799_9_crop_1.jpg  \n",
            "  inflating: Train/Score_2/R10_0799_9_crop_4.jpg  \n",
            "  inflating: Train/Score_2/R10_0799_9_crop_RH_C2_PP_m.jpg  \n",
            "  inflating: Train/Score_2/R10_0801_11_crop_2.jpg  \n",
            "  inflating: Train/Score_2/R10_0801_11_crop_4.jpg  \n",
            "  inflating: Train/Score_2/R10_0803_12_crop_LH_C2_PP_m.jpg  \n",
            "  inflating: Train/Score_2/R10_0803_12_crop_RH_C2_PP_m.jpg  \n",
            "  inflating: Train/Score_2/R10_0805_15_crop_LF_C2_PP_m.jpg  \n",
            "  inflating: Train/Score_2/R10_0805_15_crop_LH_C2_PP_m.jpg  \n",
            "  inflating: Train/Score_2/R10_0805_15_crop_RF_C2_PP_m.jpg  \n",
            "  inflating: Train/Score_2/R10_0805_15_crop_RH_C2_PP_m.jpg  \n",
            "  inflating: Train/Score_2/R10_0807_17_crop_LH_C2_PP_m.jpg  \n",
            "  inflating: Train/Score_2/R10_0809_19_crop_RH_C2_PN_m.jpg  \n",
            "  inflating: Train/Score_2/R10_0811_21_crop_LF_C2_PP_m.jpg  \n",
            "  inflating: Train/Score_2/R10_0811_21_crop_RH_C2_PP_m.jpg  \n",
            "  inflating: Train/Score_2/R10_0813_22_crop_LH_C2_PP_m.jpg  \n",
            "  inflating: Train/Score_2/R10_0813_22_crop_RF_C2_PP_m.jpg  \n",
            "  inflating: Train/Score_2/R10_0813_22_crop_RH_C2_PN_m.jpg  \n",
            "  inflating: Train/Score_2/R10_0815_43_crop_RF_C2_PN_m.jpg  \n",
            "  inflating: Train/Score_2/R10_0819_50_crop_LF_C2_PN_m.jpg  \n",
            "  inflating: Train/Score_2/R10_0819_50_crop_LH_C2_PN_m.jpg  \n",
            "  inflating: Train/Score_2/R10_0819_50_crop_RF_C2_PN_m.jpg  \n",
            "  inflating: Train/Score_2/R10_0819_50_crop_RH_C2_PN_m.jpg  \n",
            "  inflating: Train/Score_2/R10_0821_53_crop_RH_C2_PN_m.jpg  \n",
            "  inflating: Train/Score_2/R10_0823_56_crop_LF_C2_PN_m.jpg  \n",
            "  inflating: Train/Score_2/R10_0823_56_crop_RF_C2_PN_m.jpg  \n",
            "  inflating: Train/Score_2/R10_0823_56_crop_RH_C2_PN_m.jpg  \n",
            "  inflating: Train/Score_2/R10_0825_59_crop_RF_C2_PN_m.jpg  \n",
            "  inflating: Train/Score_2/R10_0825_59_crop_RH_C2_PN_m.jpg  \n",
            "  inflating: Train/Score_2/R11_0831_8_crop_RH_C2_PN_m.jpg  \n",
            "  inflating: Train/Score_2/R11_0833_10_crop_LF_C2_PN_m.jpg  \n",
            "  inflating: Train/Score_2/R11_0833_10_crop_RH_C2_PP_m.jpg  \n",
            "  inflating: Train/Score_2/R11_0835_14_crop_LF_C2_PN_m.jpg  \n",
            "  inflating: Train/Score_2/R11_0835_14_crop_LH_C2_PN_m.jpg  \n",
            "  inflating: Train/Score_2/R11_0835_14_crop_RF_C2_PN_m.jpg  \n",
            "  inflating: Train/Score_2/R11_0835_14_crop_RH_C2_PN_m.jpg  \n",
            "  inflating: Train/Score_2/R11_0837_18_crop_LH_C2_PN_m.jpg  \n",
            "  inflating: Train/Score_2/R11_0839_20_crop_RF_C2_PN_m.jpg  \n",
            "  inflating: Train/Score_2/R11_0839_20_crop_RH_C2_PN_m.jpg  \n",
            "  inflating: Train/Score_2/R11_0841_27_crop_RF_C2_PN_m.jpg  \n",
            "  inflating: Train/Score_2/R11_0843_31_crop_RH_C2_PN_m.jpg  \n",
            "  inflating: Train/Score_2/R11_0845_33_crop_LF_C2_PN_m.jpg  \n",
            "  inflating: Train/Score_2/R11_0847_35_crop_LF_C2_PP_m.jpg  \n",
            "  inflating: Train/Score_2/R11_0847_35_crop_LH_C2_PP_m.jpg  \n",
            "  inflating: Train/Score_2/R11_0847_35_crop_RF_C2_PP_m.jpg  \n",
            "  inflating: Train/Score_2/R11_0847_35_crop_RH_C2_PP_m.jpg  \n",
            "  inflating: Train/Score_2/R11_0849_37_crop_LF_C2_PN_m.jpg  \n",
            "  inflating: Train/Score_2/R11_0849_37_crop_LH_C2_PN_m.jpg  \n",
            "  inflating: Train/Score_2/R11_0849_37_crop_RF_C2_PP_m.jpg  \n",
            "  inflating: Train/Score_2/R11_0849_37_crop_RH_C2_PN_m.jpg  \n",
            "  inflating: Train/Score_2/R11_0851_40_crop_LF_C2_PP_m.jpg  \n",
            "  inflating: Train/Score_2/R11_0851_40_crop_LH_C2_PP_m.jpg  \n",
            "  inflating: Train/Score_2/R11_0851_40_crop_RF_C2_PN_m.jpg  \n",
            "  inflating: Train/Score_2/R11_0853_43_crop_LH_C2_PP_m.jpg  \n",
            "  inflating: Train/Score_2/R11_0853_43_crop_RF_C2_PN_m.jpg  \n",
            "  inflating: Train/Score_2/R11_0857_48_crop_LH_C2_PN_m.jpg  \n",
            "  inflating: Train/Score_2/R11_0859_50_crop_LF_C2_PP_m.jpg  \n",
            "  inflating: Train/Score_2/R11_0859_50_crop_LH_C2_PP_m.jpg  \n",
            "  inflating: Train/Score_2/R11_0859_50_crop_RF_C2_PP_m.jpg  \n",
            "  inflating: Train/Score_2/R11_0863_55_crop_LF_C2_PP_m.jpg  \n",
            "  inflating: Train/Score_2/R11_0863_55_crop_LH_C2_PP_m.jpg  \n",
            "  inflating: Train/Score_2/R11_0863_55_crop_RH_C2_PP_m.jpg  \n",
            "  inflating: Train/Score_2/R11_0865_58_crop_LF_C2_PP_m.jpg  \n",
            "  inflating: Train/Score_2/R11_0865_58_crop_LH_C2_PP_m.jpg  \n",
            "  inflating: Train/Score_2/R11_0865_58_crop_RH_C2_PP_m.jpg  \n",
            "  inflating: Train/Score_2/R11_0867_60_crop_LH_C2_PN_m.jpg  \n",
            "  inflating: Train/Score_2/R12_0870_4_crop_LF_C2_PP_m.jpg  \n",
            "  inflating: Train/Score_2/R12_0870_4_crop_LH_C2_PP_m.jpg  \n",
            "  inflating: Train/Score_2/R12_0870_4_crop_RF_C2_PP_m.jpg  \n",
            "  inflating: Train/Score_2/R12_0871_4a_crop_LF_C2_PP_m.jpg  \n",
            "  inflating: Train/Score_2/R12_0871_4a_crop_LH_C2_PP_m.jpg  \n",
            "  inflating: Train/Score_2/R12_0875_9_crop_LH_C2_PN_m.jpg  \n",
            "  inflating: Train/Score_2/R12_0877_10_crop_LF_C2_PP_m.jpg  \n",
            "  inflating: Train/Score_2/R12_0877_10_crop_RF_C2_PN_m.jpg  \n",
            "  inflating: Train/Score_2/R12_0879_11_crop_LH_C2_PN_m.jpg  \n",
            "  inflating: Train/Score_2/R12_0880_11a_crop_LF_C2_PP_m.jpg  \n",
            "  inflating: Train/Score_2/R12_0880_11a_crop_RH_C2_PP_m.jpg  \n",
            "  inflating: Train/Score_2/R12_0881_11b_crop_LF_C2_PP_m.jpg  \n",
            "  inflating: Train/Score_2/R12_0881_11b_crop_LH_C2_PN_m.jpg  \n",
            "  inflating: Train/Score_2/R12_0883_15_crop_LH_C2_PP_m.jpg  \n",
            "  inflating: Train/Score_2/R12_0883_15_crop_RF_C2_PN_m.jpg  \n",
            "  inflating: Train/Score_2/R12_0883_15_crop_RH_C2_PN_m.jpg  \n",
            "  inflating: Train/Score_2/R1_0463_36a_crop_LF_C2_PP_m.jpg  \n",
            "  inflating: Train/Score_2/R1_0463_36a_crop_RF_C2_PN_m.jpg  \n",
            "  inflating: Train/Score_2/R1_0466_37_crop_LH_C2_PN_m.jpg  \n",
            "  inflating: Train/Score_2/R1_0466_37_crop_RF_C2_PP_m.jpg  \n",
            "  inflating: Train/Score_2/R1_0466_37_crop_RH_C2_PN_m.jpg  \n",
            "  inflating: Train/Score_2/R1_0468_39_crop_LF_C2_PN_m.jpg  \n",
            "  inflating: Train/Score_2/R1_0470_41_crop_LF_C2_PP_m.jpg  \n",
            "  inflating: Train/Score_2/R1_0470_41_crop_LH_C2_PP_m.jpg  \n",
            "  inflating: Train/Score_2/R1_0470_41_crop_RH_C2_PP_m.jpg  \n",
            "  inflating: Train/Score_2/R1_0472_43_crop_LF_C2_PN_m.jpg  \n",
            "  inflating: Train/Score_2/R1_0472_43_crop_LH_C2_PN_m.jpg  \n",
            "  inflating: Train/Score_2/R1_0472_43_crop_RH_C2_PN_m.jpg  \n",
            "  inflating: Train/Score_2/R1_0476_47_crop_LH_C2_PN_m.jpg  \n",
            "  inflating: Train/Score_2/R1_0478_49_crop_LF_C2_PP_m.jpg  \n",
            "  inflating: Train/Score_2/R1_0478_49_crop_RH_C2_PN_m.jpg  \n",
            "  inflating: Train/Score_2/R1_0480_58_crop_LF_C2_PN_m.jpg  \n",
            "  inflating: Train/Score_2/R1_0480_58_crop_LH_C2_PP_m.jpg  \n",
            "  inflating: Train/Score_2/R1_0480_58_crop_RH_C2_PN_m.jpg  \n",
            "  inflating: Train/Score_2/R1_0482_59_crop_LH_C2_PN_m.jpg  \n",
            "  inflating: Train/Score_2/R1_0482_59_crop_RF_C2_PP_m.jpg  \n",
            "  inflating: Train/Score_2/R2_0484_1_crop_LH_C2_PP_m.jpg  \n",
            "  inflating: Train/Score_2/R2_0484_1_crop_RH_C2_PP_m.jpg  \n",
            "  inflating: Train/Score_2/R2_0487_2_crop_LH_C2_PP_m.jpg  \n",
            "  inflating: Train/Score_2/R2_0489_4_crop_RF_C2_PN_m.jpg  \n",
            "  inflating: Train/Score_2/R2_0491_6_crop_LH_C2_PN_m.jpg  \n",
            "  inflating: Train/Score_2/R2_0493_9_crop_RF_C2_PN_m.jpg  \n",
            "  inflating: Train/Score_2/R2_0495_11_crop_LF_C2_PN_m.jpg  \n",
            "  inflating: Train/Score_2/R2_0495_11_crop_LH_C2_PN_m.jpg  \n",
            "  inflating: Train/Score_2/R2_0495_11_crop_RF_C2_PN_m.jpg  \n",
            "  inflating: Train/Score_2/R2_0495_11_crop_RH_C2_PN_m.jpg  \n",
            "  inflating: Train/Score_2/R2_0497_13_crop_LF_C2_PN_m.jpg  \n",
            "  inflating: Train/Score_2/R2_0497_13_crop_RF_C2_PN_m.jpg  \n",
            "  inflating: Train/Score_2/R2_0499_35_crop_RH_C2_PP_m.jpg  \n",
            "  inflating: Train/Score_2/R2_0502_42_crop_RH_C2_PP_m.jpg  \n",
            "  inflating: Train/Score_2/R2_0504_45_crop_LH_C2_PP_m.jpg  \n",
            "  inflating: Train/Score_2/R2_0504_45_crop_RH_C2_PN_m.jpg  \n",
            "  inflating: Train/Score_2/R2_0506_47_crop_LF_C2_PN_m.jpg  \n",
            "  inflating: Train/Score_2/R2_0506_47_crop_LH_C2_PN_m.jpg  \n",
            "  inflating: Train/Score_2/R2_0506_47_crop_RF_C2_PP_m.jpg  \n",
            "  inflating: Train/Score_2/R3_0513_7_crop_LH_C2_PN_m.jpg  \n",
            "  inflating: Train/Score_2/R3_0513_7_crop_RF_C2_PN_m.jpg  \n",
            "  inflating: Train/Score_2/R3_0515_9_crop_RF_C2_PP_m.jpg  \n",
            "  inflating: Train/Score_2/R3_0515_9_crop_RH_C2_PP_m.jpg  \n",
            "  inflating: Train/Score_2/R3_0517_12_crop_LH_C2_PN_m.jpg  \n",
            "  inflating: Train/Score_2/R3_0519_15_crop_LH_C2_PN_m.jpg  \n",
            "  inflating: Train/Score_2/R3_0519_15_crop_RF_C2_PP_m.jpg  \n",
            "  inflating: Train/Score_2/R3_0521_22_crop_LF_C2_PP_m.jpg  \n",
            "  inflating: Train/Score_2/R3_0521_22_crop_LH_C2_PN_m.jpg  \n",
            "  inflating: Train/Score_2/R3_0523_25_crop_LH_C2_PN_m.jpg  \n",
            "  inflating: Train/Score_2/R3_0523_25_crop_RH_C2_PN_m.jpg  \n",
            "  inflating: Train/Score_2/R3_0527_30_crop_RH_C2_PN_m.jpg  \n",
            "  inflating: Train/Score_2/R3_0529_32_crop_LF_C2_PN_m.jpg  \n",
            "  inflating: Train/Score_2/R3_0529_32_crop_LH_C2_PN_m.jpg  \n",
            "  inflating: Train/Score_2/R3_0529_32_crop_RH_C2_PN_m.jpg  \n",
            "  inflating: Train/Score_2/R3_0531_34_crop_LF_C2_PP_m.jpg  \n",
            "  inflating: Train/Score_2/R3_0531_34_crop_LH_C2_PN_m.jpg  \n",
            "  inflating: Train/Score_2/R3_0531_34_crop_RH_C2_PP_m.jpg  \n",
            "  inflating: Train/Score_2/R3_0533_37_crop_LF_C2_PP_m.jpg  \n",
            "  inflating: Train/Score_2/R3_0533_37_crop_LH_C2_PP_m.jpg  \n",
            "  inflating: Train/Score_2/R3_0533_37_crop_RF_C2_PP_m.jpg  \n",
            "  inflating: Train/Score_2/R3_0537_42_crop_LF_C2_PN_m.jpg  \n",
            "  inflating: Train/Score_2/R3_0537_42_crop_RH_C2_PP_m.jpg  \n",
            "  inflating: Train/Score_2/R3_0541_47_crop_LH_C2_PN_m.jpg  \n",
            "  inflating: Train/Score_2/R3_0545_52_crop_LH_C2_PN_m.jpg  \n",
            "  inflating: Train/Score_2/R3_0545_52_crop_RH_C2_PN_m.jpg  \n",
            "  inflating: Train/Score_2/R4_0549_13_crop_RF_C2_PN_m.jpg  \n",
            "  inflating: Train/Score_2/R4_0551_15_crop_LH_C2_PN_m.jpg  \n",
            "  inflating: Train/Score_2/R4_0553_17_crop_RF_C2_PP_m.jpg  \n",
            "  inflating: Train/Score_2/R4_0555_20_crop_LH_C2_PN_m.jpg  \n",
            "  inflating: Train/Score_2/R4_0555_20_crop_RF_C2_PN_m.jpg  \n",
            "  inflating: Train/Score_2/R4_0557_23_crop_LH_C2_PP_m.jpg  \n",
            "  inflating: Train/Score_2/R4_0559_27_crop_LF_C2_PP_m.jpg  \n",
            "  inflating: Train/Score_2/R4_0559_27_crop_RH_C2_PN_m.jpg  \n",
            "  inflating: Train/Score_2/R4_0561_29_crop_LH_C2_PN_m.jpg  \n",
            "  inflating: Train/Score_2/R4_0561_29_crop_RH_C2_PP_m.jpg  \n",
            "  inflating: Train/Score_2/R4_0562_29a_crop_RF_C2_PP_m.jpg  \n",
            "  inflating: Train/Score_2/R4_0562_29a_crop_RH_C2_PP_m.jpg  \n",
            "  inflating: Train/Score_2/R4_0564_32_crop_LF_C2_PN_m.jpg  \n",
            "  inflating: Train/Score_2/R4_0564_32_crop_RF_C2_PN_m.jpg  \n",
            "  inflating: Train/Score_2/R4_0571_38_crop_LF_C2_PN_m.jpg  \n",
            "  inflating: Train/Score_2/R4_0571_38_crop_LH_C2_PN_m.jpg  \n",
            "  inflating: Train/Score_2/R4_0571_38_crop_RF_C2_PN_m.jpg  \n",
            "  inflating: Train/Score_2/R4_0573_40_crop_LH_C2_PP_m.jpg  \n",
            "  inflating: Train/Score_2/R4_0573_40_crop_RF_C2_PN_m.jpg  \n",
            "  inflating: Train/Score_2/R4_0575_43_crop_LF_C2_PP_m.jpg  \n",
            "  inflating: Train/Score_2/R4_0575_43_crop_LH_C2_PP_m.jpg  \n",
            "  inflating: Train/Score_2/R4_0575_43_crop_RF_C2_PP_m.jpg  \n",
            "  inflating: Train/Score_2/R4_0575_43_crop_RH_C2_PN_m.jpg  \n",
            "  inflating: Train/Score_2/R4_0577_45_crop_RF_C2_PP_m.jpg  \n",
            "  inflating: Train/Score_2/R4_0577_45_crop_RH_C2_PP_m.jpg  \n",
            "  inflating: Train/Score_2/R4_0579_47_crop_LF_C2_PP_m.jpg  \n",
            "  inflating: Train/Score_2/R4_0579_47_crop_RF_C2_PP_m.jpg  \n",
            "  inflating: Train/Score_2/R4_0581_49_crop_LF_C2_PN_m.jpg  \n",
            "  inflating: Train/Score_2/R4_0585_54_crop_RF_C2_PP_m.jpg  \n",
            "  inflating: Train/Score_2/R4_0587_56_crop_LF_C2_PN_m.jpg  \n",
            "  inflating: Train/Score_2/R4_0587_56_crop_RF_C2_PN_m.jpg  \n",
            "  inflating: Train/Score_2/R4_0589_59_crop_LF_C2_PN_m.jpg  \n",
            "  inflating: Train/Score_2/R4_0589_59_crop_RF_C2_PN_m.jpg  \n",
            "  inflating: Train/Score_2/R5_0592_21_crop_RF_C2_PP_m.jpg  \n",
            "  inflating: Train/Score_2/R5_0592_21_crop_RH_C2_PN_m.jpg  \n",
            "  inflating: Train/Score_2/R5_0594_24_crop_LF_C2_PP_m.jpg  \n",
            "  inflating: Train/Score_2/R5_0594_24_crop_LH_C2_PP_m.jpg  \n",
            "  inflating: Train/Score_2/R5_0594_24_crop_RF_C2_PP_m.jpg  \n",
            "  inflating: Train/Score_2/R5_0594_24_crop_RH_C2_PP_m.jpg  \n",
            "  inflating: Train/Score_2/R5_0596_25_crop_LF_C2_PN_m.jpg  \n",
            "  inflating: Train/Score_2/R5_0596_25_crop_RF_C2_PN_m.jpg  \n",
            "  inflating: Train/Score_2/R5_0596_25_crop_RH_C2_PN_m.jpg  \n",
            "  inflating: Train/Score_2/R5_0598_26_crop_RF_C2_PN_m.jpg  \n",
            "  inflating: Train/Score_2/R5_0600_28_crop_LF_C2_PN_m.jpg  \n",
            "  inflating: Train/Score_2/R5_0600_28_crop_LH_C2_PN_m.jpg  \n",
            "  inflating: Train/Score_2/R5_0604_34_crop_LH_C2_PN_m.jpg  \n",
            "  inflating: Train/Score_2/R5_0606_36_crop_LF_C2_PP_m.jpg  \n",
            "  inflating: Train/Score_2/R5_0606_36_crop_RF_C2_PP_m.jpg  \n",
            "  inflating: Train/Score_2/R5_0608_38_crop_LH_C2_PP_m.jpg  \n",
            "  inflating: Train/Score_2/R5_0608_38_crop_RF_C2_PN_m.jpg  \n",
            "  inflating: Train/Score_2/R5_0610_40_crop_LH_C2_PN_m.jpg  \n",
            "  inflating: Train/Score_2/R5_0610_40_crop_RH_C2_PP_m.jpg  \n",
            "  inflating: Train/Score_2/R5_0612_42_crop_LF_C2_PN_m.jpg  \n",
            "  inflating: Train/Score_2/R5_0612_42_crop_LH_C2_PN_m.jpg  \n",
            "  inflating: Train/Score_2/R5_0615_45_crop_LH_C2_PN_m.jpg  \n",
            "  inflating: Train/Score_2/R5_0617_47_crop_RH_C2_PN_m.jpg  \n",
            "  inflating: Train/Score_2/R5_0619_49_crop_LF_C2_PP_m.jpg  \n",
            "  inflating: Train/Score_2/R5_0619_49_crop_RF_C2_PP_m.jpg  \n",
            "  inflating: Train/Score_2/R5_0623_55_crop_LF_C2_PN_m.jpg  \n",
            "  inflating: Train/Score_2/R5_0623_55_crop_RF_C2_PN_m.jpg  \n",
            "  inflating: Train/Score_2/R5_0623_55_crop_RH_C2_PN_m.jpg  \n",
            "  inflating: Train/Score_2/R5_0627_60_crop_LF_C2_PN_m.jpg  \n",
            "  inflating: Train/Score_2/R5_0627_60_crop_LH_C2_PP_m.jpg  \n",
            "  inflating: Train/Score_2/R5_0627_60_crop_RH_C2_PN_m.jpg  \n",
            "  inflating: Train/Score_2/R6_0630_4_crop_RH_C2_PN_m.jpg  \n",
            "  inflating: Train/Score_2/R6_0632_7_crop_LF_C2_PP_m.jpg  \n",
            "  inflating: Train/Score_2/R6_0632_7_crop_LH_C2_PN_m.jpg  \n",
            "  inflating: Train/Score_2/R6_0632_7_crop_RH_C2_PN_m.jpg  \n",
            "  inflating: Train/Score_2/R6_0634_11_crop_LF_C2_PP_m.jpg  \n",
            "  inflating: Train/Score_2/R6_0634_11_crop_LH_C2_PP_m.jpg  \n",
            "  inflating: Train/Score_2/R6_0634_11_crop_RF_C2_PP_m.jpg  \n",
            "  inflating: Train/Score_2/R6_0634_11_crop_RH_C2_PP_m.jpg  \n",
            "  inflating: Train/Score_2/R6_0638_17_crop_LH_C2_PN_m.jpg  \n",
            "  inflating: Train/Score_2/R6_0638_17_crop_RH_C2_PN_m.jpg  \n",
            "  inflating: Train/Score_2/R6_0640_21_crop_LH_C2_PP_m.jpg  \n",
            "  inflating: Train/Score_2/R6_0640_21_crop_RF_C2_PN_m.jpg  \n",
            "  inflating: Train/Score_2/R6_0642_23_crop_LH_C2_PN_m.jpg  \n",
            "  inflating: Train/Score_2/R6_0644_27_crop_LH_C2_PN_m.jpg  \n",
            "  inflating: Train/Score_2/R6_0644_27_crop_RH_C2_PN_m.jpg  \n",
            "  inflating: Train/Score_2/R6_0647_31_crop_LF_C2_PP_m.jpg  \n",
            "  inflating: Train/Score_2/R6_0647_31_crop_RH_C2_PN_m.jpg  \n",
            "  inflating: Train/Score_2/R7_0653_2_crop_LF_C2_PP_m.jpg  \n",
            "  inflating: Train/Score_2/R7_0653_2_crop_LH_C2_PP_m.jpg  \n",
            "  inflating: Train/Score_2/R7_0653_2_crop_RF_C2_PP_m.jpg  \n",
            "  inflating: Train/Score_2/R7_0653_2_crop_RH_C2_PP_m.jpg  \n",
            "  inflating: Train/Score_2/R7_0663_15_crop_LF_C2_PN_m.jpg  \n",
            "  inflating: Train/Score_2/R7_0665_17_crop_LF_C2_PN_m.jpg  \n",
            "  inflating: Train/Score_2/R7_0665_17_crop_LH_C2_PN_m.jpg  \n",
            "  inflating: Train/Score_2/R7_0668_19_crop_LH_C2_PN_m.jpg  \n",
            "  inflating: Train/Score_2/R7_0670_22_crop_LH_C2_PP_m.jpg  \n",
            "  inflating: Train/Score_2/R7_0672_24_crop_LH_C2_PP_m.jpg  \n",
            "  inflating: Train/Score_2/R7_0672_24_crop_RF_C2_PP_m.jpg  \n",
            "  inflating: Train/Score_2/R7_0672_24_crop_RH_C2_PP_m.jpg  \n",
            "  inflating: Train/Score_2/R7_0674_26_crop_LF_C2_PP_m.jpg  \n",
            "  inflating: Train/Score_2/R7_0674_26_crop_RF_C2_PP_m.jpg  \n",
            "  inflating: Train/Score_2/R7_0674_26_crop_RH_C2_PP_m.jpg  \n",
            "  inflating: Train/Score_2/R7_0676_30_crop_RF_C2_PN_m.jpg  \n",
            "  inflating: Train/Score_2/R7_0678_33_crop_LF_C2_PN_m.jpg  \n",
            "  inflating: Train/Score_2/R7_0678_33_crop_RF_C2_PN_m.jpg  \n",
            "  inflating: Train/Score_2/R7_0680_34_crop_LF_C2_PP_m.jpg  \n",
            "  inflating: Train/Score_2/R7_0680_34_crop_LH_C2_PP_m.jpg  \n",
            "  inflating: Train/Score_2/R7_0680_34_crop_RH_C2_PP_m.jpg  \n",
            "  inflating: Train/Score_2/R7_0682_36_crop_LF_C2_PP_m.jpg  \n",
            "  inflating: Train/Score_2/R7_0682_36_crop_RF_C2_PN_m.jpg  \n",
            "  inflating: Train/Score_2/R7_0682_36_crop_RH_C2_PN_m.jpg  \n",
            "  inflating: Train/Score_2/R7_0684_38_crop_LF_C2_PP_m.jpg  \n",
            "  inflating: Train/Score_2/R7_0684_38_crop_RF_C2_PP_m.jpg  \n",
            "  inflating: Train/Score_2/R7_0684_38_crop_RH_C2_PP_m.jpg  \n",
            "  inflating: Train/Score_2/R7_0686_41_crop_LH_C2_PN_m.jpg  \n",
            "  inflating: Train/Score_2/R7_0690_46_crop_LF_C2_PP_m.jpg  \n",
            "  inflating: Train/Score_2/R7_0690_46_crop_LH_C2_PN_m.jpg  \n",
            "  inflating: Train/Score_2/R7_0690_46_crop_RH_C2_PN_m.jpg  \n",
            "  inflating: Train/Score_2/R7_0696_53_crop_LF_C2_PN_m.jpg  \n",
            "  inflating: Train/Score_2/R7_0698_56_crop_LF_C2_PP_m.jpg  \n",
            "  inflating: Train/Score_2/R7_0700_57_crop_LF_C2_PN_m.jpg  \n",
            "  inflating: Train/Score_2/R7_0702_58_crop_LF_C2_PP_m.jpg  \n",
            "  inflating: Train/Score_2/R7_0704_60_crop_LF_C2_PN_m.jpg  \n",
            "  inflating: Train/Score_2/R7_0704_60_crop_RF_C2_PN_m.jpg  \n",
            "  inflating: Train/Score_2/R7_0704_60_crop_RH_C2_PP_m.jpg  \n",
            "  inflating: Train/Score_2/R8_0708_6_crop_LF_C2_PN_m.jpg  \n",
            "  inflating: Train/Score_2/R8_0710_8_crop_LF_C2_PP_m.jpg  \n",
            "  inflating: Train/Score_2/R8_0710_8_crop_LH_C2_PP_m.jpg  \n",
            "  inflating: Train/Score_2/R8_0710_8_crop_RF_C2_PN_m.jpg  \n",
            "  inflating: Train/Score_2/R8_0710_8_crop_RH_C2_PN_m.jpg  \n",
            "  inflating: Train/Score_2/R8_0716_17_crop_LF_C2_PP_m.jpg  \n",
            "  inflating: Train/Score_2/R8_0716_17_crop_LH_C2_PP_m.jpg  \n",
            "  inflating: Train/Score_2/R8_0716_17_crop_RF_C2_PP_m.jpg  \n",
            "  inflating: Train/Score_2/R8_0716_17_crop_RH_C2_PP_m.jpg  \n",
            "  inflating: Train/Score_2/R8_0718_24_crop_RF_C2_PP_m.jpg  \n",
            "  inflating: Train/Score_2/R8_0720_26_crop_LF_C2_PP_m.jpg  \n",
            "  inflating: Train/Score_2/R8_0720_26_crop_LH_C2_PP_m.jpg  \n",
            "  inflating: Train/Score_2/R8_0720_26_crop_RF_C2_PP_m.jpg  \n",
            "  inflating: Train/Score_2/R8_0722_31_crop_LH_C2_PN_m.jpg  \n",
            "  inflating: Train/Score_2/R8_0722_31_crop_RH_C2_PN_m.jpg  \n",
            "  inflating: Train/Score_2/R8_0724_33_crop_LF_C2_PP_m.jpg  \n",
            "  inflating: Train/Score_2/R8_0724_33_crop_LH_C2_PP_m.jpg  \n",
            "  inflating: Train/Score_2/R8_0726_35_crop_RF_C2_PN_m.jpg  \n",
            "  inflating: Train/Score_2/R8_0728_37_crop_RH_C2_PN_m.jpg  \n",
            "  inflating: Train/Score_2/R8_0730_39_crop_LH_C2_PN_m.jpg  \n",
            "  inflating: Train/Score_2/R8_0730_39_crop_RF_C2_PN_m.jpg  \n",
            "  inflating: Train/Score_2/R8_0738_48_crop_LF_C2_PN_m.jpg  \n",
            "  inflating: Train/Score_2/R8_0738_48_crop_RF_C2_PN_m.jpg  \n",
            "  inflating: Train/Score_2/R8_0740_51_crop_LH_C2_PP_m.jpg  \n",
            "  inflating: Train/Score_2/R8_0740_51_crop_RF_C2_PN_m.jpg  \n",
            "  inflating: Train/Score_2/R8_0744_53_crop_LH_C2_PN_m.jpg  \n",
            "  inflating: Train/Score_2/R8_0744_53_crop_RF_C2_PN_m.jpg  \n",
            "  inflating: Train/Score_2/R8_0744_53_crop_RH_C2_PN_m.jpg  \n",
            "  inflating: Train/Score_2/R9_0749_7_crop_RF_C2_PN_m.jpg  \n",
            "  inflating: Train/Score_2/R9_0751_9_crop_LH_C2_PN_m.jpg  \n",
            "  inflating: Train/Score_2/R9_0751_9_crop_RH_C2_PN_m.jpg  \n",
            "  inflating: Train/Score_2/R9_0753_11_crop_LH_C2_PN_m.jpg  \n",
            "  inflating: Train/Score_2/R9_0753_11_crop_RH_C2_PN_m.jpg  \n",
            "  inflating: Train/Score_2/R9_0755_13_crop_LF_C2_PN_m.jpg  \n",
            "  inflating: Train/Score_2/R9_0755_13_crop_RF_C2_PN_m.jpg  \n",
            "  inflating: Train/Score_2/R9_0757_14_crop_LH_C2_PN_m.jpg  \n",
            "  inflating: Train/Score_2/R9_0759_19_crop_LF_C2_PP_m.jpg  \n",
            "  inflating: Train/Score_2/R9_0759_19_crop_RF_C2_PN_m.jpg  \n",
            "  inflating: Train/Score_2/R9_0759_19_crop_RH_C2_PN_m.jpg  \n",
            "  inflating: Train/Score_2/R9_0761_22_crop_LF_C2_PN_m.jpg  \n",
            "  inflating: Train/Score_2/R9_0761_22_crop_RH_C2_PP_m.jpg  \n",
            "  inflating: Train/Score_2/R9_0763_24_crop_LH_C2_PN_m.jpg  \n",
            "  inflating: Train/Score_2/R9_0763_24_crop_RH_C2_PN_m.jpg  \n",
            "  inflating: Train/Score_2/R9_0765_27_crop_LH_C2_PN_m.jpg  \n",
            "  inflating: Train/Score_2/R9_0765_27_crop_RF_C2_PP_m.jpg  \n",
            "  inflating: Train/Score_2/R9_0767_29_crop_LH_C2_PN_m.jpg  \n",
            "  inflating: Train/Score_2/R9_0767_29_crop_RF_C2_PN_m.jpg  \n",
            "  inflating: Train/Score_2/R9_0767_29_crop_RH_C2_PN_m.jpg  \n",
            "  inflating: Train/Score_2/R9_0769_31_crop_LF_C2_PP_m.jpg  \n",
            "  inflating: Train/Score_2/R9_0769_31_crop_RF_C2_PP_m.jpg  \n",
            "  inflating: Train/Score_2/R9_0771_33_crop_LH_C2_PN_m.jpg  \n",
            "  inflating: Train/Score_2/R9_0771_33_crop_RF_C2_PN_m.jpg  \n",
            "  inflating: Train/Score_2/R9_0771_33_crop_RH_C2_PN_m.jpg  \n",
            "  inflating: Train/Score_2/R9_0775_37_crop_LH_C2_PP_m.jpg  \n",
            "  inflating: Train/Score_2/R9_0775_37_crop_RF_C2_PP_m.jpg  \n",
            "  inflating: Train/Score_2/R9_0777_39_crop_LF_C2_PN_m.jpg  \n",
            "  inflating: Train/Score_2/R9_0777_39_crop_LH_C2_PN_m.jpg  \n",
            "  inflating: Train/Score_2/R9_0777_39_crop_RF_C2_PN_m.jpg  \n",
            "  inflating: Train/Score_2/R9_0781_43_crop_LF_C2_PP_m.jpg  \n",
            "  inflating: Train/Score_2/R9_0783_46_crop_LH_C2_PN_m.jpg  \n",
            "  inflating: Train/Score_2/R9_0783_46_crop_RH_C2_PN_m.jpg  \n",
            "  inflating: Train/Score_2/R9_0785_48_crop_LH_C2_PP_m.jpg  \n",
            "  inflating: Train/Score_2/R9_0785_48_crop_RH_C2_PP_m.jpg  \n",
            "  inflating: Train/Score_2/R9_0787_50_crop_RF_C2_PP_m.jpg  \n",
            "  inflating: Train/Score_2/R9_0789_53_crop_LF_C2_PP_m.jpg  \n",
            "  inflating: Train/Score_2/R9_0789_53_crop_LH_C2_PP_m.jpg  \n",
            "  inflating: Train/Score_2/R9_0789_53_crop_RF_C2_PP_m.jpg  \n",
            "  inflating: Train/Score_2/R9_0789_53_crop_RH_C2_PP_m.jpg  \n",
            "  inflating: Train/Score_2/R9_0791_55_crop_RF_C2_PN_m.jpg  \n",
            "  inflating: Train/Score_2/R9_0793_57_crop_RF_C2_PP_m.jpg  \n",
            "  inflating: Train/Score_2/R9_0793_57_crop_RH_C2_PN_m.jpg  \n",
            "  inflating: Train/Score_2/R9_0795_60_crop_LF_C2_PP_m.jpg  \n",
            "  inflating: Train/Score_2/R9_0795_60_crop_RH_C2_PP_m.jpg  \n",
            "Archive:  SCTL/Train_2.zip\n",
            "   creating: Train/Score_3/\n",
            "  inflating: Train/Score_3/20200724_094623_RF_C3_PN_M.jpg  \n",
            "  inflating: Train/Score_3/20200724_094726_LF_C3_PN_M.jpg  \n",
            "  inflating: Train/Score_3/20200724_094726_RF_C3_PN_M.jpg  \n",
            "  inflating: Train/Score_3/20200724_095439_LH_C3_PP_M.jpg  \n",
            "  inflating: Train/Score_3/20200724_095439_RH_C3_PP_M.jpg  \n",
            "  inflating: Train/Score_3/20200724_095500_RF_C3_PN_M.jpg  \n",
            "  inflating: Train/Score_3/20200724_095505_LF_C3_PP_M.jpg  \n",
            "  inflating: Train/Score_3/20200724_103347_LH_C3_PP_M.jpg  \n",
            "  inflating: Train/Score_3/20200724_104209_LF_C3_PN_M.jpg  \n",
            "  inflating: Train/Score_3/20200724_105008_RF_C3_PN_M.jpg  \n",
            "  inflating: Train/Score_3/20200724_105011_RH_C3_PN_M.jpg  \n",
            "  inflating: Train/Score_3/20200724_111437_LH_C3_PN_M.jpg  \n",
            "  inflating: Train/Score_3/20200724_111437_RF_C3_PN_M.jpg  \n",
            "  inflating: Train/Score_3/20200724_111437_RH_C3_PN_M.jpg  \n",
            "  inflating: Train/Score_3/20200724_113008_RF_C3_PN_M.jpg  \n",
            "  inflating: Train/Score_3/20200724_114221_RH_C3_PN_M.jpg  \n",
            "  inflating: Train/Score_3/20200724_120332_RH_C3_PN_M.jpg  \n",
            "  inflating: Train/Score_3/20200724_121806_LH_C3_PN_M.jpg  \n",
            "  inflating: Train/Score_3/20200724_121806_RH_C3_PN_M.jpg  \n",
            "  inflating: Train/Score_3/20200724_123148_RF_C3_PN_M.jpg  \n",
            "  inflating: Train/Score_3/20200724_123809_LH_C3_PN_M.jpg  \n",
            "  inflating: Train/Score_3/20200724_123809_RF_C3_PN_M.jpg  \n",
            "  inflating: Train/Score_3/R10_0799_9_crop_LH_C3_PN_m.jpg  \n",
            "  inflating: Train/Score_3/R10_0801_11_crop_LF_C3_PN_m.jpg  \n",
            "  inflating: Train/Score_3/R10_0801_11_crop_LH_C3_PN_m.jpg  \n",
            "  inflating: Train/Score_3/R10_0817_47_crop_LH_C3_PN_m.jpg  \n",
            "  inflating: Train/Score_3/R10_0817_47_crop_RH_C3_PN_m.jpg  \n",
            "  inflating: Train/Score_3/R10_0821_53_crop_LF_C3_PP_m.jpg  \n",
            "  inflating: Train/Score_3/R10_0821_53_crop_LH_C3_PP_m.jpg  \n",
            "  inflating: Train/Score_3/R10_0821_53_crop_RF_C3_PP_m.jpg  \n",
            "  inflating: Train/Score_3/R11_0829_6_crop_LF_C3_PP_m.jpg  \n",
            "  inflating: Train/Score_3/R11_0829_6_crop_LH_C3_PN_m.jpg  \n",
            "  inflating: Train/Score_3/R11_0829_6_crop_RH_C3_PN_m.jpg  \n",
            "  inflating: Train/Score_3/R11_0831_8_crop_LF_C3_PN_m.jpg  \n",
            "  inflating: Train/Score_3/R11_0831_8_crop_LH_C3_PN_m.jpg  \n",
            "  inflating: Train/Score_3/R11_0831_8_crop_RF_C3_PN_m.jpg  \n",
            "  inflating: Train/Score_3/R11_0833_10_crop_LH_C3_PP_m.jpg  \n",
            "  inflating: Train/Score_3/R11_0833_10_crop_RF_C3_PN_m.jpg  \n",
            "  inflating: Train/Score_3/R11_0837_18_crop_RF_C3_PN_m.jpg  \n",
            "  inflating: Train/Score_3/R11_0855_46_crop_LF_C3_PP_m.jpg  \n",
            "  inflating: Train/Score_3/R11_0857_48_crop_LF_C3_PN_m.jpg  \n",
            "  inflating: Train/Score_3/R11_0857_48_crop_RH_C3_PN_m.jpg  \n",
            "  inflating: Train/Score_3/R11_0861_52_crop_LF_C3_PN_m.jpg  \n",
            "  inflating: Train/Score_3/R11_0861_52_crop_RH_C3_PN_m.jpg  \n",
            "  inflating: Train/Score_3/R11_0865_58_crop_RF_C3_PP_m.jpg  \n",
            "  inflating: Train/Score_3/R11_0867_60_crop_RF_C3_PN_m.jpg  \n",
            "  inflating: Train/Score_3/R11_0867_60_crop_RH_C3_PN_m.jpg  \n",
            "  inflating: Train/Score_3/R12_0875_9_crop_LF_C3_PN_m.jpg  \n",
            "  inflating: Train/Score_3/R12_0875_9_crop_RF_C3_PN_m.jpg  \n",
            "  inflating: Train/Score_3/R12_0875_9_crop_RH_C3_PN_m.jpg  \n",
            "  inflating: Train/Score_3/R12_0877_10_crop_LH_C3_PN_m.jpg  \n",
            "  inflating: Train/Score_3/R12_0879_11_crop_RF_C3_PP_m.jpg  \n",
            "  inflating: Train/Score_3/R12_0880_11a_crop_LH_C3_PN_m.jpg  \n",
            "  inflating: Train/Score_3/R12_0880_11a_crop_RF_C3_PP_m.jpg  \n",
            "  inflating: Train/Score_3/R1_0464_36b_crop_LF_C3_PP_m.jpg  \n",
            "  inflating: Train/Score_3/R1_0464_36b_crop_LH_C3_PP_m.jpg  \n",
            "  inflating: Train/Score_3/R1_0464_36b_crop_RH_C3_PP_m.jpg  \n",
            "  inflating: Train/Score_3/R1_0468_39_crop_LH_C3_PN_m.jpg  \n",
            "  inflating: Train/Score_3/R1_0468_39_crop_RF_C3_PN_m.jpg  \n",
            "  inflating: Train/Score_3/R1_0476_47_crop_LF_C3_PN_m.jpg  \n",
            "  inflating: Train/Score_3/R1_0478_49_crop_LH_C3_PP_m.jpg  \n",
            "  inflating: Train/Score_3/R2_0487_2_crop_LF_C3_PN_m.jpg  \n",
            "  inflating: Train/Score_3/R2_0491_6_crop_RF_C3_PP_m.jpg  \n",
            "  inflating: Train/Score_3/R2_0491_6_crop_RH_C3_PN_m.jpg  \n",
            "  inflating: Train/Score_3/R2_0493_9_crop_RH_C3_PN_m.jpg  \n",
            "  inflating: Train/Score_3/R2_0499_35_crop_LF_C3_PN_m.jpg  \n",
            "  inflating: Train/Score_3/R2_0499_35_crop_RF_C3_PN_m.jpg  \n",
            "  inflating: Train/Score_3/R2_0508_58_crop_LH_C3_PN_m.jpg  \n",
            "  inflating: Train/Score_3/R2_0508_58_crop_RF_C3_PP_m.jpg  \n",
            "  inflating: Train/Score_3/R3_0523_25_crop_LF_C3_PP_m.jpg  \n",
            "  inflating: Train/Score_3/R3_0525_27_crop_LF_C3_PN_m.jpg  \n",
            "  inflating: Train/Score_3/R3_0525_27_crop_LH_C3_PN_m.jpg  \n",
            "  inflating: Train/Score_3/R3_0525_27_crop_RF_C3_PN_m.jpg  \n",
            "  inflating: Train/Score_3/R3_0525_27_crop_RH_C3_PN_m.jpg  \n",
            "  inflating: Train/Score_3/R3_0527_30_crop_LH_C3_PN_m.jpg  \n",
            "  inflating: Train/Score_3/R3_0529_32_crop_RF_C3_PN_m.jpg  \n",
            "  inflating: Train/Score_3/R3_0531_34_crop_RF_C3_PN_m.jpg  \n",
            "  inflating: Train/Score_3/R3_0535_40_crop_LF_C3_PP_m.jpg  \n",
            "  inflating: Train/Score_3/R3_0535_40_crop_LH_C3_PN_m.jpg  \n",
            "  inflating: Train/Score_3/R3_0535_40_crop_RH_C3_PN_m.jpg  \n",
            "  inflating: Train/Score_3/R3_0539_45_crop_LF_C3_PN_m.jpg  \n",
            "  inflating: Train/Score_3/R3_0539_45_crop_RF_C3_PN_m.jpg  \n",
            "  inflating: Train/Score_3/R3_0539_45_crop_RH_C3_PN_m.jpg  \n",
            "  inflating: Train/Score_3/R3_0543_49_crop_LH_C3_PN_m.jpg  \n",
            "  inflating: Train/Score_3/R3_0543_49_crop_RH_C3_PN_m.jpg  \n",
            "  inflating: Train/Score_3/R3_0545_52_crop_RF_C3_PN_m.jpg  \n",
            "  inflating: Train/Score_3/R3_0547_55_crop_LH_C3_PN_m.jpg  \n",
            "  inflating: Train/Score_3/R3_0547_55_crop_RF_C3_PN_m.jpg  \n",
            "  inflating: Train/Score_3/R4_0549_13_crop_LH_C3_PP_m.jpg  \n",
            "  inflating: Train/Score_3/R4_0551_15_crop_LF_C3_PP_m.jpg  \n",
            "  inflating: Train/Score_3/R4_0551_15_crop_RF_C3_PP_m.jpg  \n",
            "  inflating: Train/Score_3/R4_0551_15_crop_RH_C3_PP_m.jpg  \n",
            "  inflating: Train/Score_3/R4_0555_20_crop_LF_C3_PN_m.jpg  \n",
            "  inflating: Train/Score_3/R4_0557_23_crop_LF_C3_PP_m.jpg  \n",
            "  inflating: Train/Score_3/R4_0557_23_crop_RF_C3_PP_m.jpg  \n",
            "  inflating: Train/Score_3/R4_0557_23_crop_RH_C3_PP_m.jpg  \n",
            "  inflating: Train/Score_3/R4_0561_29_crop_RF_C3_PP_m.jpg  \n",
            "  inflating: Train/Score_3/R4_0562_29a_crop_LH_C3_PN_m.jpg  \n",
            "  inflating: Train/Score_3/R4_0564_32_crop_LH_C3_PN_m.jpg  \n",
            "  inflating: Train/Score_3/R4_0564_32_crop_RH_C3_PN_m.jpg  \n",
            "  inflating: Train/Score_3/R4_0567_34_crop_LF_C3_PN_m.jpg  \n",
            "  inflating: Train/Score_3/R4_0567_34_crop_RF_C3_PN_m.jpg  \n",
            "  inflating: Train/Score_3/R4_0569_36_crop_LH_C3_PN_m.jpg  \n",
            "  inflating: Train/Score_3/R4_0569_36_crop_RF_C3_PN_m.jpg  \n",
            "  inflating: Train/Score_3/R4_0569_36_crop_RH_C3_PN_m.jpg  \n",
            "  inflating: Train/Score_3/R4_0581_49_crop_RF_C3_PN_m.jpg  \n",
            "  inflating: Train/Score_3/R4_0583_52_crop_LF_C3_PN_m.jpg  \n",
            "  inflating: Train/Score_3/R4_0583_52_crop_LH_C3_PN_m.jpg  \n",
            "  inflating: Train/Score_3/R4_0585_54_crop_LH_C3_PN_m.jpg  \n",
            "  inflating: Train/Score_3/R4_0585_54_crop_RH_C3_PN_m.jpg  \n",
            "  inflating: Train/Score_3/R5_0598_26_crop_LH_C3_PP_m.jpg  \n",
            "  inflating: Train/Score_3/R5_0598_26_crop_RH_C3_PN_m.jpg  \n",
            "  inflating: Train/Score_3/R5_0600_28_crop_RF_C3_PN_m.jpg  \n",
            "  inflating: Train/Score_3/R5_0602_31_crop_LF_C3_PN_m.jpg  \n",
            "  inflating: Train/Score_3/R5_0602_31_crop_LH_C3_PN_m.jpg  \n",
            "  inflating: Train/Score_3/R5_0602_31_crop_RF_C3_PN_m.jpg  \n",
            "  inflating: Train/Score_3/R5_0602_31_crop_RH_C3_PN_m.jpg  \n",
            "  inflating: Train/Score_3/R5_0604_34_crop_RF_C3_PN_m.jpg  \n",
            "  inflating: Train/Score_3/R5_0615_45_crop_LF_C3_PN_m.jpg  \n",
            "  inflating: Train/Score_3/R5_0617_47_crop_LF_C3_PN_m.jpg  \n",
            "  inflating: Train/Score_3/R5_0619_49_crop_LH_C3_PP_m.jpg  \n",
            "  inflating: Train/Score_3/R6_0632_7_crop_RF_C3_PP_m.jpg  \n",
            "  inflating: Train/Score_3/R6_0636_13_crop_LF_C3_PN_m.jpg  \n",
            "  inflating: Train/Score_3/R6_0636_13_crop_RH_C3_PN_m.jpg  \n",
            "  inflating: Train/Score_3/R6_0638_17_crop_LF_C3_PN_m.jpg  \n",
            "  inflating: Train/Score_3/R6_0638_17_crop_RF_C3_PN_m.jpg  \n",
            "  inflating: Train/Score_3/R6_0642_23_crop_LF_C3_PN_m.jpg  \n",
            "  inflating: Train/Score_3/R6_0642_23_crop_RF_C3_PN_m.jpg  \n",
            "  inflating: Train/Score_3/R6_0644_27_crop_RF_C3_PN_m.jpg  \n",
            "  inflating: Train/Score_3/R6_0649_53_crop_LF_C3_PP_m.jpg  \n",
            "  inflating: Train/Score_3/R6_0649_53_crop_LH_C3_PN_m.jpg  \n",
            "  inflating: Train/Score_3/R7_0655_4_crop_RF_C3_PN_m.jpg  \n",
            "  inflating: Train/Score_3/R7_0657_8_crop_LF_C3_PN_m.jpg  \n",
            "  inflating: Train/Score_3/R7_0657_8_crop_LH_C3_PN_m.jpg  \n",
            "  inflating: Train/Score_3/R7_0659_10_crop_LF_C3_PP_m.jpg  \n",
            "  inflating: Train/Score_3/R7_0665_17_crop_RF_C3_PN_m.jpg  \n",
            "  inflating: Train/Score_3/R7_0668_19_crop_LF_C3_PN_m.jpg  \n",
            "  inflating: Train/Score_3/R7_0670_22_crop_LF_C3_PP_m.jpg  \n",
            "  inflating: Train/Score_3/R7_0670_22_crop_RF_C3_PP_m.jpg  \n",
            "  inflating: Train/Score_3/R7_0670_22_crop_RH_C3_PP_m.jpg  \n",
            "  inflating: Train/Score_3/R7_0680_34_crop_RF_C3_PP_m.jpg  \n",
            "  inflating: Train/Score_3/R7_0686_41_crop_LF_C3_PN_m.jpg  \n",
            "  inflating: Train/Score_3/R7_0686_41_crop_RF_C3_PN_m.jpg  \n",
            "  inflating: Train/Score_3/R7_0686_41_crop_RH_C3_PN_m.jpg  \n",
            "  inflating: Train/Score_3/R7_0688_44_crop_LF_C3_PN_m.jpg  \n",
            "  inflating: Train/Score_3/R7_0690_46_crop_RF_C3_PN_m.jpg  \n",
            "  inflating: Train/Score_3/R7_0692_48_crop_RF_C3_PN_m.jpg  \n",
            "  inflating: Train/Score_3/R7_0694_50_crop_LF_C3_PN_m.jpg  \n",
            "  inflating: Train/Score_3/R7_0694_50_crop_RF_C3_PN_m.jpg  \n",
            "  inflating: Train/Score_3/R7_0696_53_crop_RF_C3_PN_m.jpg  \n",
            "  inflating: Train/Score_3/R7_0696_53_crop_RH_C3_PP_m.jpg  \n",
            "  inflating: Train/Score_3/R7_0698_56_crop_RF_C3_PN_m.jpg  \n",
            "  inflating: Train/Score_3/R7_0698_56_crop_RH_C3_PN_m.jpg  \n",
            "  inflating: Train/Score_3/R7_0700_57_crop_LH_C3_PN_m.jpg  \n",
            "  inflating: Train/Score_3/R7_0700_57_crop_RF_C3_PN_m.jpg  \n",
            "  inflating: Train/Score_3/R8_0708_6_crop_RF_C3_PN_m.jpg  \n",
            "  inflating: Train/Score_3/R8_0708_6_crop_RH_C3_PN_m.jpg  \n",
            "  inflating: Train/Score_3/R8_0714_14_crop_LF_C3_PN_m.jpg  \n",
            "  inflating: Train/Score_3/R8_0722_31_crop_LF_C3_PN_m.jpg  \n",
            "  inflating: Train/Score_3/R8_0722_31_crop_RF_C3_PN_m.jpg  \n",
            "  inflating: Train/Score_3/R8_0732_41_crop_LF_C3_PN_m.jpg  \n",
            "  inflating: Train/Score_3/R8_0732_41_crop_RF_C3_PP_m.jpg  \n",
            "  inflating: Train/Score_3/R8_0732_41_crop_RH_C3_PP_m.jpg  \n",
            "  inflating: Train/Score_3/R8_0734_43_crop_RF_C3_PN_m.jpg  \n",
            "  inflating: Train/Score_3/R8_0734_43_crop_RH_C3_PN_m.jpg  \n",
            "  inflating: Train/Score_3/R8_0736_45_crop_RH_C3_PN_m.jpg  \n",
            "  inflating: Train/Score_3/R8_0742_52_crop_LH_C3_PN_m.jpg  \n",
            "  inflating: Train/Score_3/R8_0742_52_crop_RF_C3_PP_m.jpg  \n",
            "  inflating: Train/Score_3/R8_0742_52_crop_RH_C3_PP_m.jpg  \n",
            "  inflating: Train/Score_3/R8_0744_53_crop_LF_C3_PN_m.jpg  \n",
            "  inflating: Train/Score_3/R9_0747_4_crop_LF_C3_PN_m.jpg  \n",
            "  inflating: Train/Score_3/R9_0747_4_crop_LH_C3_PN_m.jpg  \n",
            "  inflating: Train/Score_3/R9_0747_4_crop_RF_C3_PN_m.jpg  \n",
            "  inflating: Train/Score_3/R9_0747_4_crop_RH_C3_PN_m.jpg  \n",
            "  inflating: Train/Score_3/R9_0751_9_crop_LF_C3_PP_m.jpg  \n",
            "  inflating: Train/Score_3/R9_0753_11_crop_RF_C3_PN_m.jpg  \n",
            "  inflating: Train/Score_3/R9_0757_14_crop_RH_C3_PN_m.jpg  \n",
            "  inflating: Train/Score_3/R9_0761_22_crop_LH_C3_PN_m.jpg  \n",
            "  inflating: Train/Score_3/R9_0761_22_crop_RF_C3_PN_m.jpg  \n",
            "  inflating: Train/Score_3/R9_0763_24_crop_LF_C3_PN_m.jpg  \n",
            "  inflating: Train/Score_3/R9_0763_24_crop_RF_C3_PN_m.jpg  \n",
            "  inflating: Train/Score_3/R9_0771_33_crop_LF_C3_PN_m.jpg  \n",
            "  inflating: Train/Score_3/R9_0773_35_crop_LH_C3_PN_m.jpg  \n",
            "  inflating: Train/Score_3/R9_0773_35_crop_RF_C3_PN_m.jpg  \n",
            "  inflating: Train/Score_3/R9_0773_35_crop_RH_C3_PN_m.jpg  \n",
            "  inflating: Train/Score_3/R9_0783_46_crop_LF_C3_PN_m.jpg  \n",
            "  inflating: Train/Score_3/R9_0793_57_crop_LF_C3_PP_m.jpg  \n",
            "   creating: Train/Score_4/\n",
            "  inflating: Train/Score_4/20200724_104315_LH_C4_PN_M.jpg  \n",
            "  inflating: Train/Score_4/20200724_105011_LF_C4_PN_M.jpg  \n",
            "  inflating: Train/Score_4/20200724_110441_LF_C4_PN_M.jpg  \n",
            "  inflating: Train/Score_4/20200724_110441_RF_C4_PN_M.jpg  \n",
            "  inflating: Train/Score_4/20200724_110442_LF_C4_PN_M.jpg  \n",
            "  inflating: Train/Score_4/20200724_110442_RF_C4_PN_M.jpg  \n",
            "  inflating: Train/Score_4/20200724_120329_RH_C4_PP_M.jpg  \n",
            "  inflating: Train/Score_4/R10_0799_9_crop_LF_C4_PN_m.jpg  \n",
            "  inflating: Train/Score_4/R10_0799_9_crop_RF_C4_PN_m.jpg  \n",
            "  inflating: Train/Score_4/R10_0801_11_crop_RF_C4_PN_m.jpg  \n",
            "  inflating: Train/Score_4/R10_0817_47_crop_LF_C4_PN_m.jpg  \n",
            "  inflating: Train/Score_4/R10_0817_47_crop_RF_C4_PN_m.jpg  \n",
            "  inflating: Train/Score_4/R11_0855_46_crop_RF_C4_PP_m.jpg  \n",
            "  inflating: Train/Score_4/R2_0491_6_crop_LF_C4_PN_m.jpg  \n",
            "  inflating: Train/Score_4/R3_0543_49_crop_LF_C4_PN_m.jpg  \n",
            "  inflating: Train/Score_4/R3_0543_49_crop_RF_C4_PN_m.jpg  \n",
            "  inflating: Train/Score_4/R4_0583_52_crop_RF_C4_PN_m.jpg  \n",
            "  inflating: Train/Score_4/R7_0694_50_crop_RH_C4_PN_m.jpg  \n",
            "  inflating: Train/Score_4/R8_0714_14_crop_LH_C4_PP_m.jpg  \n",
            "  inflating: Train/Score_4/R8_0734_43_crop_LH_C4_PP_m.jpg  \n",
            "  inflating: Train/Score_4/R8_0736_45_crop_LF_C4_PN_m.jpg  \n"
          ]
        }
      ],
      "source": [
        "# unzip file\n",
        "!unzip SCTL/Train_1 -d Train/\n",
        "!unzip SCTL/Train_2 -d Train/"
      ]
    },
    {
      "cell_type": "code",
      "source": [
        "# Unzip the test file\n",
        "!unzip SCTL/Test.zip -d Test"
      ],
      "metadata": {
        "colab": {
          "base_uri": "https://localhost:8080/"
        },
        "id": "z4gB_IhfFURc",
        "outputId": "a29fe333-f551-44be-c319-61a2eb338528"
      },
      "execution_count": null,
      "outputs": [
        {
          "output_type": "stream",
          "name": "stdout",
          "text": [
            "Archive:  SCTL/Test.zip\n",
            "   creating: Test/Test/\n",
            "  inflating: Test/Test/20200724_093921_RF_C2_PP_M.jpg  \n",
            "  inflating: Test/Test/20200724_093926_LH_C1_PN_M.jpg  \n",
            "  inflating: Test/Test/20200724_093930_LF_C1_PN_M.jpg  \n",
            "  inflating: Test/Test/20200724_093930_LH_C3_PN_M.jpg  \n",
            "  inflating: Test/Test/20200724_093935_RF_C2_PP_M.jpg  \n",
            "  inflating: Test/Test/20200724_093940_LH_C1_PP_M.jpg  \n",
            "  inflating: Test/Test/20200724_093940_RH_C1_PN_M.jpg  \n",
            "  inflating: Test/Test/20200724_094015_LF_C2_PN_M.jpg  \n",
            "  inflating: Test/Test/20200724_094015_RH_C2_PN_M.jpg  \n",
            "  inflating: Test/Test/20200724_094108_LF_C1_PP_M.jpg  \n",
            "  inflating: Test/Test/20200724_094108_RF_C1_PN_M.jpg  \n",
            "  inflating: Test/Test/20200724_094117_LH_C1_PN_M.jpg  \n",
            "  inflating: Test/Test/20200724_094126_LF_C1_PN_M.jpg  \n",
            "  inflating: Test/Test/20200724_094126_LH_C2_PN_M.jpg  \n",
            "  inflating: Test/Test/20200724_094126_RF_C1_PN_M.jpg  \n",
            "  inflating: Test/Test/20200724_094126_RH_C2_PN_M.jpg  \n",
            "  inflating: Test/Test/20200724_094157_LF_C2_PN_M.jpg  \n",
            "  inflating: Test/Test/20200724_094157_LH_C2_PN_M.jpg  \n",
            "  inflating: Test/Test/20200724_094207_RF_C2_PN_M.jpg  \n",
            "  inflating: Test/Test/20200724_094250_LF_C1_PN_M.jpg  \n",
            "  inflating: Test/Test/20200724_094250_RH_C1_PN_M.jpg  \n",
            "  inflating: Test/Test/20200724_094321_LF_C1_PP_M.jpg  \n",
            "  inflating: Test/Test/20200724_094321_LH_C1_PP_M.jpg  \n",
            "  inflating: Test/Test/20200724_094326_LF_C1_PN_M.jpg  \n",
            "  inflating: Test/Test/20200724_094326_RH_C2_PN_M.jpg  \n",
            "  inflating: Test/Test/20200724_094337_LF_C1_PN_M.jpg  \n",
            "  inflating: Test/Test/20200724_094337_LH_C1_PN_M.jpg  \n",
            "  inflating: Test/Test/20200724_094337_RF_C1_PN_M.jpg  \n",
            "  inflating: Test/Test/20200724_094356_LF_C2_PN_M.jpg  \n",
            "  inflating: Test/Test/20200724_094356_LH_C2_PN_M.jpg  \n",
            "  inflating: Test/Test/20200724_094414_LF_C2_PP_M.jpg  \n",
            "  inflating: Test/Test/20200724_094420_LH_C2_PN_M.jpg  \n",
            "  inflating: Test/Test/20200724_094424_LH_C1_PN_M.jpg  \n",
            "  inflating: Test/Test/20200724_094429_RH_C1_PN_M.jpg  \n",
            "  inflating: Test/Test/20200724_094453_LF_C1_PN_M.jpg  \n",
            "  inflating: Test/Test/20200724_094504_LH_C1_PP_M.jpg  \n",
            "  inflating: Test/Test/20200724_094509_RF_C1_PN_M.jpg  \n",
            "  inflating: Test/Test/20200724_094514_LF_C2_PN_M.jpg  \n",
            "  inflating: Test/Test/20200724_094514_RF_C2_PN_M.jpg  \n",
            "  inflating: Test/Test/20200724_094519_LH_C1_PN_M.jpg  \n",
            "  inflating: Test/Test/20200724_094525_LH_C2_PN_M.jpg  \n",
            "  inflating: Test/Test/20200724_094529_RF_C2_PP_M.jpg  \n",
            "  inflating: Test/Test/20200724_094529_RH_C1_PP_M.jpg  \n",
            "  inflating: Test/Test/20200724_094541_LF_C1_PN_M.jpg  \n",
            "  inflating: Test/Test/20200724_094546_LH_C2_PN_M.jpg  \n",
            "  inflating: Test/Test/20200724_094614_LF_C1_PP_M.jpg  \n",
            "  inflating: Test/Test/20200724_094614_LH_C1_PN_M.jpg  \n",
            "  inflating: Test/Test/20200724_094619_LH_C1_PN_M.jpg  \n",
            "  inflating: Test/Test/20200724_094633_RF_C1_PN_M.jpg  \n",
            "  inflating: Test/Test/20200724_094644_LF_C2_PN_M.jpg  \n",
            "  inflating: Test/Test/20200724_094654_RF_C1_PP_M.jpg  \n",
            "  inflating: Test/Test/20200724_094654_RH_C2_PP_M.jpg  \n",
            "  inflating: Test/Test/20200724_094659_RF_C1_PP_M.jpg  \n",
            "  inflating: Test/Test/20200724_094705_LH_C1_PN_M.jpg  \n",
            "  inflating: Test/Test/20200724_094705_RF_C1_PN_M.jpg  \n",
            "  inflating: Test/Test/20200724_094710_LF_C2_PN_M.jpg  \n",
            "  inflating: Test/Test/20200724_094710_RF_C2_PN_M.jpg  \n",
            "  inflating: Test/Test/20200724_094710_RH_C2_PN_M.jpg  \n",
            "  inflating: Test/Test/20200724_094716_LF_C2_PN_M.jpg  \n",
            "  inflating: Test/Test/20200724_094716_LH_C2_PN_M.jpg  \n",
            "  inflating: Test/Test/20200724_094716_RF_C2_PN_M.jpg  \n",
            "  inflating: Test/Test/20200724_094726_RH_C2_PN_M.jpg  \n",
            "  inflating: Test/Test/20200724_094742_LH_C1_PP_M.jpg  \n",
            "  inflating: Test/Test/20200724_094747_LF_C1_PP_M.jpg  \n",
            "  inflating: Test/Test/20200724_094747_LH_C1_PP_M.jpg  \n",
            "  inflating: Test/Test/20200724_094747_RF_C2_PP_M.jpg  \n",
            "  inflating: Test/Test/20200724_094747_RH_C1_PP_M.jpg  \n",
            "  inflating: Test/Test/20200724_094811_RF_C2_PN_M.jpg  \n",
            "  inflating: Test/Test/20200724_094819_LF_C1_PN_M.jpg  \n",
            "  inflating: Test/Test/20200724_094824_LF_C1_PN_M.jpg  \n",
            "  inflating: Test/Test/20200724_094824_LH_C1_PN_M.jpg  \n",
            "  inflating: Test/Test/20200724_094824_RF_C2_PN_M.jpg  \n",
            "  inflating: Test/Test/20200724_094828_LF_C2_PN_M.jpg  \n",
            "  inflating: Test/Test/20200724_094828_RF_C1_PP_M.jpg  \n",
            "  inflating: Test/Test/20200724_094839_LH_C1_PP_M.jpg  \n",
            "  inflating: Test/Test/20200724_094854_LF_C2_PN_M.jpg  \n",
            "  inflating: Test/Test/20200724_094859_LH_C2_PN_M.jpg  \n",
            "  inflating: Test/Test/20200724_094909_LF_C1_PP_M.jpg  \n",
            "  inflating: Test/Test/20200724_094919_RH_C2_PN_M.jpg  \n",
            "  inflating: Test/Test/20200724_094929_RF_C1_PP_M.jpg  \n",
            "  inflating: Test/Test/20200724_094936_RF_C1_PN_M.jpg  \n",
            "  inflating: Test/Test/20200724_094941_RF_C1_PN_M.jpg  \n",
            "  inflating: Test/Test/20200724_094946_RH_C1_PP_M.jpg  \n",
            "  inflating: Test/Test/20200724_094951_RH_C1_PP_M.jpg  \n",
            "  inflating: Test/Test/20200724_095001_RF_C2_PP_M.jpg  \n",
            "  inflating: Test/Test/20200724_095006_LH_C1_PN_M.jpg  \n",
            "  inflating: Test/Test/20200724_095010_LH_C1_PP_M.jpg  \n",
            "  inflating: Test/Test/20200724_095010_RF_C1_PP_M.jpg  \n",
            "  inflating: Test/Test/20200724_095010_RH_C1_PP_M.jpg  \n",
            "  inflating: Test/Test/20200724_095029_LH_C1_PN_M.jpg  \n",
            "  inflating: Test/Test/20200724_095034_LF_C2_PN_M.jpg  \n",
            "  inflating: Test/Test/20200724_095034_LH_C1_PP_M.jpg  \n",
            "  inflating: Test/Test/20200724_095044_RF_C1_PN_M.jpg  \n",
            "  inflating: Test/Test/20200724_095055_RF_C1_PP_M.jpg  \n",
            "  inflating: Test/Test/20200724_095059_LH_C1_PN_M.jpg  \n",
            "  inflating: Test/Test/20200724_095114_RF_C1_PP_M.jpg  \n",
            "  inflating: Test/Test/20200724_095114_RH_C1_PP_M.jpg  \n",
            "  inflating: Test/Test/20200724_095123_LF_C2_PP_M.jpg  \n",
            "  inflating: Test/Test/20200724_095123_RH_C1_PP_M.jpg  \n",
            "  inflating: Test/Test/20200724_095132_LF_C1_PN_M.jpg  \n",
            "  inflating: Test/Test/20200724_095132_LH_C1_PP_M.jpg  \n",
            "  inflating: Test/Test/20200724_095138_LF_C1_PP_M.jpg  \n",
            "  inflating: Test/Test/20200724_095151_LH_C1_PN_M.jpg  \n",
            "  inflating: Test/Test/20200724_095151_RH_C1_PN_M.jpg  \n",
            "  inflating: Test/Test/20200724_095158_LH_C2_PP_M.jpg  \n",
            "  inflating: Test/Test/20200724_095205_LF_C1_PP_M.jpg  \n",
            "  inflating: Test/Test/20200724_095205_RH_C1_PP_M.jpg  \n",
            "  inflating: Test/Test/20200724_095443_LF_C2_PN_M.jpg  \n",
            "  inflating: Test/Test/20200724_095443_LH_C1_PN_M.jpg  \n",
            "  inflating: Test/Test/20200724_095443_RF_C1_PN_M.jpg  \n",
            "  inflating: Test/Test/20200724_095450_LF_C1_PP_M.jpg  \n",
            "  inflating: Test/Test/20200724_095500_LH_C1_PN_M.jpg  \n",
            "  inflating: Test/Test/20200724_095505_LH_C1_PP_M.jpg  \n",
            "  inflating: Test/Test/20200724_095505_RH_C2_PP_M.jpg  \n",
            "  inflating: Test/Test/20200724_095510_LH_C1_PP_M.jpg  \n",
            "  inflating: Test/Test/20200724_095510_RH_C1_PN_M.jpg  \n",
            "  inflating: Test/Test/20200724_095515_RF_C1_PP_M.jpg  \n",
            "  inflating: Test/Test/20200724_095528_RH_C1_PP_M.jpg  \n",
            "  inflating: Test/Test/20200724_095538_LH_C2_PP_M.jpg  \n",
            "  inflating: Test/Test/20200724_095538_RH_C2_PP_M.jpg  \n",
            "  inflating: Test/Test/20200724_095542_RH_C1_PN_M.jpg  \n",
            "  inflating: Test/Test/20200724_095547_RF_C1_PP_M.jpg  \n",
            "  inflating: Test/Test/20200724_095551_LH_C1_PP_M.jpg  \n",
            "  inflating: Test/Test/20200724_095556_LF_C2_PN_M.jpg  \n",
            "  inflating: Test/Test/20200724_095556_LH_C1_PN_M.jpg  \n",
            "  inflating: Test/Test/20200724_095601_RF_C1_PN_M.jpg  \n",
            "  inflating: Test/Test/20200724_095614_LF_C1_PN_M.jpg  \n",
            "  inflating: Test/Test/20200724_095655_RF_C1_PP_M.jpg  \n",
            "  inflating: Test/Test/20200724_095659_LH_C2_PN_M.jpg  \n",
            "  inflating: Test/Test/20200724_095704_LH_C1_PP_M.jpg  \n",
            "  inflating: Test/Test/20200724_095709_RF_C1_PP_M.jpg  \n",
            "  inflating: Test/Test/20200724_095709_RH_C1_PN_M.jpg  \n",
            "  inflating: Test/Test/20200724_095717_LH_C2_PN_M.jpg  \n",
            "  inflating: Test/Test/20200724_095722_LH_C1_PP_M.jpg  \n",
            "  inflating: Test/Test/20200724_095734_RF_C1_PP_M.jpg  \n",
            "  inflating: Test/Test/20200724_095749_LF_C1_PN_M.jpg  \n",
            "  inflating: Test/Test/20200724_095749_RF_C1_PN_M.jpg  \n",
            "  inflating: Test/Test/20200724_102901_RF_C1_PP_M.jpg  \n",
            "  inflating: Test/Test/20200724_102905_RH_C2_PN_M.jpg  \n",
            "  inflating: Test/Test/20200724_102910_LH_C2_PN_M.jpg  \n",
            "  inflating: Test/Test/20200724_102915_LH_C1_PN_M.jpg  \n",
            "  inflating: Test/Test/20200724_102957_RH_C1_PN_M.jpg  \n",
            "  inflating: Test/Test/20200724_103001_LF_C1_PP_M.jpg  \n",
            "  inflating: Test/Test/20200724_103010_RH_C1_PN_M.jpg  \n",
            "  inflating: Test/Test/20200724_103017_RH_C2_PN_M.jpg  \n",
            "  inflating: Test/Test/20200724_103031_LH_C1_PN_M.jpg  \n",
            "  inflating: Test/Test/20200724_103031_RH_C1_PN_M.jpg  \n",
            "  inflating: Test/Test/20200724_103051_LF_C1_PN_M.jpg  \n",
            "  inflating: Test/Test/20200724_103056_LF_C2_PN_M.jpg  \n",
            "  inflating: Test/Test/20200724_103056_RH_C1_PP_M.jpg  \n",
            "  inflating: Test/Test/20200724_103134_LF_C1_PN_M.jpg  \n",
            "  inflating: Test/Test/20200724_103146_LH_C3_PN_M.jpg  \n",
            "  inflating: Test/Test/20200724_103146_RH_C3_PP_M.jpg  \n",
            "  inflating: Test/Test/20200724_103151_LF_C1_PP_M.jpg  \n",
            "  inflating: Test/Test/20200724_103151_RF_C1_PP_M.jpg  \n",
            "  inflating: Test/Test/20200724_103159_LH_C1_PP_M.jpg  \n",
            "  inflating: Test/Test/20200724_103212_LF_C1_PP_M.jpg  \n",
            "  inflating: Test/Test/20200724_103212_LH_C2_PP_M.jpg  \n",
            "  inflating: Test/Test/20200724_103233_LH_C1_PP_M.jpg  \n",
            "  inflating: Test/Test/20200724_103233_RH_C1_PN_M.jpg  \n",
            "  inflating: Test/Test/20200724_103244_RF_C1_PP_M.jpg  \n",
            "  inflating: Test/Test/20200724_103249_RH_C1_PN_M.jpg  \n",
            "  inflating: Test/Test/20200724_103258_LH_C1_PN_M.jpg  \n",
            "  inflating: Test/Test/20200724_103258_RF_C1_PN_M.jpg  \n",
            "  inflating: Test/Test/20200724_103303_RF_C2_PP_M.jpg  \n",
            "  inflating: Test/Test/20200724_103308_LF_C1_PN_M.jpg  \n",
            "  inflating: Test/Test/20200724_103314_LH_C1_PP_M.jpg  \n",
            "  inflating: Test/Test/20200724_103319_RF_C1_PP_M.jpg  \n",
            "  inflating: Test/Test/20200724_103329_RF_C1_PN_M.jpg  \n",
            "  inflating: Test/Test/20200724_103334_LH_C1_PP_M.jpg  \n",
            "  inflating: Test/Test/20200724_103347_LF_C3_PN_M.jpg  \n",
            "  inflating: Test/Test/20200724_103347_RH_C3_PP_M.jpg  \n",
            "  inflating: Test/Test/20200724_103350_LF_C1_PN_M.jpg  \n",
            "  inflating: Test/Test/20200724_103350_RF_C1_PN_M.jpg  \n",
            "  inflating: Test/Test/20200724_103350_RH_C1_PN_M.jpg  \n",
            "  inflating: Test/Test/20200724_103356_LF_C1_PN_M.jpg  \n",
            "  inflating: Test/Test/20200724_103356_LH_C1_PN_M.jpg  \n",
            "  inflating: Test/Test/20200724_103356_RH_C1_PN_M.jpg  \n",
            "  inflating: Test/Test/20200724_103406_LF_C1_PP_M.jpg  \n",
            "  inflating: Test/Test/20200724_103406_RH_C1_PP_M.jpg  \n",
            "  inflating: Test/Test/20200724_103412_LF_C2_PN_M.jpg  \n",
            "  inflating: Test/Test/20200724_103416_LH_C1_PN_M.jpg  \n",
            "  inflating: Test/Test/20200724_103423_LF_C1_PP_M.jpg  \n",
            "  inflating: Test/Test/20200724_103423_RH_C1_PP_M.jpg  \n",
            "  inflating: Test/Test/20200724_103445_LH_C1_PP_M.jpg  \n",
            "  inflating: Test/Test/20200724_103451_RF_C2_PN_M.jpg  \n",
            "  inflating: Test/Test/20200724_103513_RH_C1_PN_M.jpg  \n",
            "  inflating: Test/Test/20200724_105011_RF_C3_PN_M.jpg  \n",
            "  inflating: Test/Test/20200724_110727_LH_C4_PP_M.jpg  \n",
            "  inflating: Test/Test/20200724_113008_LF_C3_PN_M.jpg  \n",
            "  inflating: Test/Test/20200724_113008_LH_C3_PN_M.jpg  \n",
            "  inflating: Test/Test/20200724_121806_RF_C3_PP_M.jpg  \n",
            "  inflating: Test/Test/20200724_123148_LF_C3_PN_M.jpg  \n",
            "  inflating: Test/Test/20200724_123809_RH_C3_PN_M.jpg  \n",
            "  inflating: Test/Test/R10_0797_4_crop_LH_C2_PP_m.jpg  \n",
            "  inflating: Test/Test/R10_0799_9_crop_2.jpg  \n",
            "  inflating: Test/Test/R10_0801_11_crop_1.jpg  \n",
            "  inflating: Test/Test/R10_0801_11_crop_RH_C2_PN_m.jpg  \n",
            "  inflating: Test/Test/R10_0803_12_crop_LF_C3_PP_m.jpg  \n",
            "  inflating: Test/Test/R10_0803_12_crop_RF_C2_PP_m.jpg  \n",
            "  inflating: Test/Test/R10_0807_17_crop_LF_C3_PP_m.jpg  \n",
            "  inflating: Test/Test/R10_0807_17_crop_RF_C2_PP_m.jpg  \n",
            "  inflating: Test/Test/R10_0807_17_crop_RH_C3_PP_m.jpg  \n",
            "  inflating: Test/Test/R10_0809_19_crop_LF_C2_PN_m.jpg  \n",
            "  inflating: Test/Test/R10_0809_19_crop_LH_C2_PN_m.jpg  \n",
            "  inflating: Test/Test/R10_0809_19_crop_RF_C2_PN_m.jpg  \n",
            "  inflating: Test/Test/R10_0811_21_crop_LH_C2_PP_m.jpg  \n",
            "  inflating: Test/Test/R10_0811_21_crop_RF_C2_PP_m.jpg  \n",
            "  inflating: Test/Test/R10_0813_22_crop_LF_C2_PN_m.jpg  \n",
            "  inflating: Test/Test/R10_0815_43_crop_LF_C2_PN_m.jpg  \n",
            "  inflating: Test/Test/R10_0815_43_crop_LH_C1_PN_m.jpg  \n",
            "  inflating: Test/Test/R10_0823_56_crop_LH_C2_PP_m.jpg  \n",
            "  inflating: Test/Test/R10_0825_59_crop_LF_C2_PN_m.jpg  \n",
            "  inflating: Test/Test/R11_0829_6_crop_RF_C3_PN_m.jpg  \n",
            "  inflating: Test/Test/R11_0837_18_crop_LF_C2_PN_m.jpg  \n",
            "  inflating: Test/Test/R11_0837_18_crop_RH_C2_PN_m.jpg  \n",
            "  inflating: Test/Test/R11_0841_27_crop_LF_C2_PN_m.jpg  \n",
            "  inflating: Test/Test/R11_0841_27_crop_LH_C2_PN_m.jpg  \n",
            "  inflating: Test/Test/R11_0841_27_crop_RH_C3_PN_m.jpg  \n",
            "  inflating: Test/Test/R11_0843_31_crop_LF_C2_PN_m.jpg  \n",
            "  inflating: Test/Test/R11_0843_31_crop_LH_C1_PN_m.jpg  \n",
            "  inflating: Test/Test/R11_0843_31_crop_RF_C3_PN_m.jpg  \n",
            "  inflating: Test/Test/R11_0851_40_crop_RH_C2_PN_m.jpg  \n",
            "  inflating: Test/Test/R11_0853_43_crop_LF_C2_PN_m.jpg  \n",
            "  inflating: Test/Test/R11_0853_43_crop_RH_C2_PN_m.jpg  \n",
            "  inflating: Test/Test/R11_0855_46_crop_LH_C3_PN_m.jpg  \n",
            "  inflating: Test/Test/R11_0855_46_crop_RH_C4_PP_m.jpg  \n",
            "  inflating: Test/Test/R11_0857_48_crop_RF_C3_PN_m.jpg  \n",
            "  inflating: Test/Test/R11_0859_50_crop_RH_C2_PP_m.jpg  \n",
            "  inflating: Test/Test/R11_0861_52_crop_LH_C2_PN_m.jpg  \n",
            "  inflating: Test/Test/R11_0861_52_crop_RF_C3_PN_m.jpg  \n",
            "  inflating: Test/Test/R11_0863_55_crop_RF_C1_PN_m.jpg  \n",
            "  inflating: Test/Test/R11_0867_60_crop_LF_C2_PN_m.jpg  \n",
            "  inflating: Test/Test/R12_0873_7_crop_LF_C1_PN_m.jpg  \n",
            "  inflating: Test/Test/R12_0873_7_crop_RF_C2_PP_m.jpg  \n",
            "  inflating: Test/Test/R12_0877_10_crop_RH_C2_PN_m.jpg  \n",
            "  inflating: Test/Test/R12_0879_11_crop_LF_C3_PP_m.jpg  \n",
            "  inflating: Test/Test/R12_0881_11b_crop_RF_C2_PP_m.jpg  \n",
            "  inflating: Test/Test/R12_0881_11b_crop_RH_C2_PP_m.jpg  \n",
            "  inflating: Test/Test/R12_0883_15_crop_LF_C3_PN_m.jpg  \n",
            "  inflating: Test/Test/R1_0463_36a_crop_LH_C2_PP_m.jpg  \n",
            "  inflating: Test/Test/R1_0463_36a_crop_RH_C3_PP_m.jpg  \n",
            "  inflating: Test/Test/R1_0464_36b_crop_RF_C2_PN_m.jpg  \n",
            "  inflating: Test/Test/R1_0466_37_crop_LF_C2_PN_m.jpg  \n",
            "  inflating: Test/Test/R1_0468_39_crop_RH_C4_PN_m.jpg  \n",
            "  inflating: Test/Test/R1_0470_41_crop_RF_C2_PP_m.jpg  \n",
            "  inflating: Test/Test/R1_0472_43_crop_RF_C2_PN_m.jpg  \n",
            "  inflating: Test/Test/R1_0474_45_crop_RH_C1_PN_m.jpg  \n",
            "  inflating: Test/Test/R1_0476_47_crop_RF_C3_PN_m.jpg  \n",
            "  inflating: Test/Test/R1_0478_49_crop_RF_C2_PN_m.jpg  \n",
            "  inflating: Test/Test/R1_0480_58_crop_RF_C2_PP_m.jpg  \n",
            "  inflating: Test/Test/R1_0482_59_crop_LF_C1_PP_m.jpg  \n",
            "  inflating: Test/Test/R2_0484_1_crop_LF_C2_PP_m.jpg  \n",
            "  inflating: Test/Test/R2_0489_4_crop_LH_C1_PN_m.jpg  \n",
            "  inflating: Test/Test/R2_0493_9_crop_LF_C3_PN_m.jpg  \n",
            "  inflating: Test/Test/R2_0499_35_crop_LH_C2_PN_m.jpg  \n",
            "  inflating: Test/Test/R2_0502_42_crop_RF_C2_PP_m.jpg  \n",
            "  inflating: Test/Test/R2_0504_45_crop_LF_C2_PP_m.jpg  \n",
            "  inflating: Test/Test/R3_0511_2_crop_LF_C1_PN_m.jpg  \n",
            "  inflating: Test/Test/R3_0511_2_crop_LH_C1_PN_m.jpg  \n",
            "  inflating: Test/Test/R3_0513_7_crop_RH_C1_PN_m.jpg  \n",
            "  inflating: Test/Test/R3_0515_9_crop_LF_C2_PP_m.jpg  \n",
            "  inflating: Test/Test/R3_0515_9_crop_LH_C1_PP_m.jpg  \n",
            "  inflating: Test/Test/R3_0517_12_crop_RF_C2_PN_m.jpg  \n",
            "  inflating: Test/Test/R3_0519_15_crop_RH_C2_PP_m.jpg  \n",
            "  inflating: Test/Test/R3_0521_22_crop_RF_C2_PN_m.jpg  \n",
            "  inflating: Test/Test/R3_0521_22_crop_RH_C2_PP_m.jpg  \n",
            "  inflating: Test/Test/R3_0523_25_crop_RF_C2_PN_m.jpg  \n",
            "  inflating: Test/Test/R3_0527_30_crop_LF_C2_PN_m.jpg  \n",
            "  inflating: Test/Test/R3_0527_30_crop_RF_C3_PN_m.jpg  \n",
            "  inflating: Test/Test/R3_0535_40_crop_RF_C2_PN_m.jpg  \n",
            "  inflating: Test/Test/R3_0537_42_crop_LH_C2_PN_m.jpg  \n",
            "  inflating: Test/Test/R3_0537_42_crop_RF_C2_PP_m.jpg  \n",
            "  inflating: Test/Test/R3_0539_45_crop_LH_C3_PN_m.jpg  \n",
            "  inflating: Test/Test/R3_0541_47_crop_LF_C1_PN_m.jpg  \n",
            "  inflating: Test/Test/R3_0541_47_crop_RH_C1_PN_m.jpg  \n",
            "  inflating: Test/Test/R3_0547_55_crop_LF_C2_PN_m.jpg  \n",
            "  inflating: Test/Test/R3_0547_55_crop_RH_C3_PN_m.jpg  \n",
            "  inflating: Test/Test/R4_0549_13_crop_LF_C3_PN_m.jpg  \n",
            "  inflating: Test/Test/R4_0549_13_crop_RH_C2_PN_m.jpg  \n",
            "  inflating: Test/Test/R4_0553_17_crop_LF_C2_PP_m.jpg  \n",
            "  inflating: Test/Test/R4_0553_17_crop_RH_C2_PP_m.jpg  \n",
            "  inflating: Test/Test/R4_0559_27_crop_RF_C2_PN_m.jpg  \n",
            "  inflating: Test/Test/R4_0567_34_crop_LH_C3_PN_m.jpg  \n",
            "  inflating: Test/Test/R4_0567_34_crop_RH_C3_PN_m.jpg  \n",
            "  inflating: Test/Test/R4_0569_36_crop_LF_C3_PN_m.jpg  \n",
            "  inflating: Test/Test/R4_0573_40_crop_RH_C2_PN_m.jpg  \n",
            "  inflating: Test/Test/R4_0577_45_crop_LH_C2_PP_m.jpg  \n",
            "  inflating: Test/Test/R4_0581_49_crop_RH_C2_PN_m.jpg  \n",
            "  inflating: Test/Test/R4_0583_52_crop_RH_C3_PN_m.jpg  \n",
            "  inflating: Test/Test/R4_0585_54_crop_LF_C2_PN_m.jpg  \n",
            "  inflating: Test/Test/R4_0589_59_crop_RH_C1_PN_m.jpg  \n",
            "  inflating: Test/Test/R5_0596_25_crop_LH_C2_PN_m.jpg  \n",
            "  inflating: Test/Test/R5_0604_34_crop_LF_C3_PN_m.jpg  \n",
            "  inflating: Test/Test/R5_0604_34_crop_RH_C2_PN_m.jpg  \n",
            "  inflating: Test/Test/R5_0606_36_crop_LH_C1_PP_m.jpg  \n",
            "  inflating: Test/Test/R5_0608_38_crop_LF_C3_PN_m.jpg  \n",
            "  inflating: Test/Test/R5_0608_38_crop_RH_C2_PN_m.jpg  \n",
            "  inflating: Test/Test/R5_0612_42_crop_RF_C2_PN_m.jpg  \n",
            "  inflating: Test/Test/R5_0612_42_crop_RH_C2_PN_m.jpg  \n",
            "  inflating: Test/Test/R5_0615_45_crop_RF_C3_PN_m.jpg  \n",
            "  inflating: Test/Test/R5_0617_47_crop_LH_C2_PN_m.jpg  \n",
            "  inflating: Test/Test/R5_0617_47_crop_RF_C3_PN_m.jpg  \n",
            "  inflating: Test/Test/R5_0625_58_crop_LF_C2_PN_m.jpg  \n",
            "  inflating: Test/Test/R5_0627_60_crop_RF_C3_PN_m.jpg  \n",
            "  inflating: Test/Test/R6_0630_4_crop_LF_C2_PN_m.jpg  \n",
            "  inflating: Test/Test/R6_0630_4_crop_LH_C3_PN_m.jpg  \n",
            "  inflating: Test/Test/R6_0630_4_crop_RF_C3_PN_m.jpg  \n",
            "  inflating: Test/Test/R6_0636_13_crop_LH_C3_PP_m.jpg  \n",
            "  inflating: Test/Test/R6_0636_13_crop_RF_C3_PP_m.jpg  \n",
            "  inflating: Test/Test/R6_0640_21_crop_RH_C2_PN_m.jpg  \n",
            "  inflating: Test/Test/R6_0642_23_crop_RH_C2_PN_m.jpg  \n",
            "  inflating: Test/Test/R6_0644_27_crop_LF_C3_PN_m.jpg  \n",
            "  inflating: Test/Test/R6_0647_31_crop_RF_C2_PP_m.jpg  \n",
            "  inflating: Test/Test/R6_0649_53_crop_RF_C3_PN_m.jpg  \n",
            "  inflating: Test/Test/R6_0649_53_crop_RH_C3_PN_m.jpg  \n",
            "  inflating: Test/Test/R7_0651_1_crop_LF_C2_PN_m.jpg  \n",
            "  inflating: Test/Test/R7_0651_1_crop_RF_C2_PP_m.jpg  \n",
            "  inflating: Test/Test/R7_0655_4_crop_LH_C1_PN_m.jpg  \n",
            "  inflating: Test/Test/R7_0659_10_crop_RF_C3_PN_m.jpg  \n",
            "  inflating: Test/Test/R7_0659_10_crop_RH_C3_PN_m.jpg  \n",
            "  inflating: Test/Test/R7_0661_12_crop_LF_C2_PP_m.jpg  \n",
            "  inflating: Test/Test/R7_0661_12_crop_LH_C2_PP_m.jpg  \n",
            "  inflating: Test/Test/R7_0663_15_crop_LH_C2_PP_m.jpg  \n",
            "  inflating: Test/Test/R7_0663_15_crop_RF_C2_PP_m.jpg  \n",
            "  inflating: Test/Test/R7_0663_15_crop_RH_C2_PN_m.jpg  \n",
            "  inflating: Test/Test/R7_0665_17_crop_RH_C3_PN_m.jpg  \n",
            "  inflating: Test/Test/R7_0668_19_crop_RF_C3_PN_m.jpg  \n",
            "  inflating: Test/Test/R7_0668_19_crop_RH_C2_PN_m.jpg  \n",
            "  inflating: Test/Test/R7_0674_26_crop_LH_C2_PP_m.jpg  \n",
            "  inflating: Test/Test/R7_0676_30_crop_LF_C2_PP_m.jpg  \n",
            "  inflating: Test/Test/R7_0678_33_crop_LH_C1_PN_m.jpg  \n",
            "  inflating: Test/Test/R7_0688_44_crop_LH_C2_PN_m.jpg  \n",
            "  inflating: Test/Test/R7_0688_44_crop_RF_C3_PN_m.jpg  \n",
            "  inflating: Test/Test/R7_0688_44_crop_RH_C2_PN_m.jpg  \n",
            "  inflating: Test/Test/R7_0692_48_crop_LF_C2_PN_m.jpg  \n",
            "  inflating: Test/Test/R7_0692_48_crop_LH_C2_PN_m.jpg  \n",
            "  inflating: Test/Test/R7_0692_48_crop_RH_C2_PN_m.jpg  \n",
            "  inflating: Test/Test/R7_0694_50_crop_LH_C3_PN_m.jpg  \n",
            "  inflating: Test/Test/R7_0696_53_crop_LH_C2_PN_m.jpg  \n",
            "  inflating: Test/Test/R7_0700_57_crop_RH_C3_PN_m.jpg  \n",
            "  inflating: Test/Test/R7_0702_58_crop_RF_C2_PP_m.jpg  \n",
            "  inflating: Test/Test/R7_0702_58_crop_RH_C2_PN_m.jpg  \n",
            "  inflating: Test/Test/R8_0708_6_crop_LH_C2_PP_m.jpg  \n",
            "  inflating: Test/Test/R8_0714_14_crop_RF_C4_PN_m.jpg  \n",
            "  inflating: Test/Test/R8_0714_14_crop_RH_C4_PN_m.jpg  \n",
            "  inflating: Test/Test/R8_0718_24_crop_LH_C2_PP_m.jpg  \n",
            "  inflating: Test/Test/R8_0726_35_crop_LH_C2_PN_m.jpg  \n",
            "  inflating: Test/Test/R8_0728_37_crop_LH_C2_PN_m.jpg  \n",
            "  inflating: Test/Test/R8_0730_39_crop_LF_C1_PN_m.jpg  \n",
            "  inflating: Test/Test/R8_0730_39_crop_RH_C2_PN_m.jpg  \n",
            "  inflating: Test/Test/R8_0732_41_crop_LH_C3_PP_m.jpg  \n",
            "  inflating: Test/Test/R8_0734_43_crop_LF_C3_PN_m.jpg  \n",
            "  inflating: Test/Test/R8_0736_45_crop_LH_C3_PN_m.jpg  \n",
            "  inflating: Test/Test/R8_0736_45_crop_RF_C4_PN_m.jpg  \n",
            "  inflating: Test/Test/R8_0738_48_crop_LH_C2_PN_m.jpg  \n",
            "  inflating: Test/Test/R8_0738_48_crop_RH_C2_PN_m.jpg  \n",
            "  inflating: Test/Test/R8_0740_51_crop_LF_C2_PN_m.jpg  \n",
            "  inflating: Test/Test/R8_0742_52_crop_LF_C3_PN_m.jpg  \n",
            "  inflating: Test/Test/R9_0751_9_crop_RF_C3_PN_m.jpg  \n",
            "  inflating: Test/Test/R9_0753_11_crop_LF_C3_PN_m.jpg  \n",
            "  inflating: Test/Test/R9_0755_13_crop_LH_C2_PN_m.jpg  \n",
            "  inflating: Test/Test/R9_0757_14_crop_LF_C1_PN_m.jpg  \n",
            "  inflating: Test/Test/R9_0759_19_crop_LH_C1_PN_m.jpg  \n",
            "  inflating: Test/Test/R9_0765_27_crop_LF_C2_PN_m.jpg  \n",
            "  inflating: Test/Test/R9_0765_27_crop_RH_C2_PP_m.jpg  \n",
            "  inflating: Test/Test/R9_0767_29_crop_LF_C2_PN_m.jpg  \n",
            "  inflating: Test/Test/R9_0773_35_crop_LF_C3_PN_m.jpg  \n",
            "  inflating: Test/Test/R9_0777_39_crop_RH_C2_PN_m.jpg  \n",
            "  inflating: Test/Test/R9_0779_41_crop_LF_C2_PN_m.jpg  \n",
            "  inflating: Test/Test/R9_0779_41_crop_LH_C1_PN_m.jpg  \n",
            "  inflating: Test/Test/R9_0779_41_crop_RF_C2_PN_m.jpg  \n",
            "  inflating: Test/Test/R9_0783_46_crop_RF_C3_PN_m.jpg  \n",
            "  inflating: Test/Test/R9_0785_48_crop_LF_C3_PP_m.jpg  \n",
            "  inflating: Test/Test/R9_0785_48_crop_RF_C2_PP_m.jpg  \n",
            "  inflating: Test/Test/R9_0787_50_crop_LF_C2_PN_m.jpg  \n",
            "  inflating: Test/Test/R9_0791_55_crop_LF_C3_PN_m.jpg  \n",
            "  inflating: Test/Test/R9_0791_55_crop_LH_C2_PN_m.jpg  \n",
            "  inflating: Test/Test/R9_0791_55_crop_RH_C2_PN_m.jpg  \n",
            "  inflating: Test/Test/R9_0793_57_crop_LH_C2_PP_m.jpg  \n"
          ]
        }
      ]
    },
    {
      "cell_type": "code",
      "execution_count": null,
      "metadata": {
        "id": "SJn0ZUos3CFf"
      },
      "outputs": [],
      "source": [
        "# import required libraries\n",
        "import torch\n",
        "import torchvision\n",
        "import numpy as np\n",
        "import pandas as pd\n",
        "import matplotlib.pyplot as plt\n",
        "import cv2\n",
        "import torch.nn as nn\n",
        "import torch.nn.functional as F\n",
        "import torch.optim as optim\n",
        "from tqdm import tqdm\n",
        "import torchvision.transforms as transforms\n",
        "from torchvision.io import read_image\n",
        "from torch.utils.data import  random_split"
      ]
    },
    {
      "cell_type": "code",
      "source": [
        "# import the required libraries\n",
        "import torch\n",
        "import torch.nn as nn\n",
        "import torch.nn.functional as F\n",
        "\n",
        "class YourCNN(nn.Module):\n",
        "    def __init__(self):\n",
        "        super(YourCNN, self).__init__()\n",
        "        # Convolutional layers\n",
        "        self.conv1 = nn.Conv2d(3, 16, kernel_size=3, stride=1, padding=1)\n",
        "        self.conv2 = nn.Conv2d(16, 32, kernel_size=3, stride=1, padding=1)\n",
        "        self.conv3 = nn.Conv2d(32, 64, kernel_size=3, stride=1, padding=1)\n",
        "\n",
        "        # Max pooling layers\n",
        "        self.pool = nn.MaxPool2d(kernel_size=2, stride=2, padding=0)\n",
        "\n",
        "        # Fully connected layers\n",
        "        self.fc1 = nn.Linear(64 * 9 * 9, 1024)\n",
        "        self.fc2 = nn.Linear(1024, 256)\n",
        "        self.fc3 = nn.Linear(256, 128)\n",
        "        self.fc4 = nn.Linear(128, 4)  # Assuming 4 output classes\n",
        "\n",
        "    def forward(self, x):\n",
        "        # Convolutional layers with ReLU activation and max pooling\n",
        "        x = F.relu(self.conv1(x))\n",
        "        x = self.pool(x)\n",
        "        x = F.relu(self.conv2(x))\n",
        "        x = self.pool(x)\n",
        "        x = F.relu(self.conv3(x))\n",
        "        x = self.pool(x)\n",
        "\n",
        "        # Flatten the tensor for fully connected layers\n",
        "        x = x.view(-1, 64 * 9 * 9)\n",
        "\n",
        "        # Fully connected layers with ReLU activation\n",
        "        x = F.relu(self.fc1(x))\n",
        "        x = F.relu(self.fc2(x))\n",
        "        x = F.relu(self.fc3(x))\n",
        "        x = self.fc4(x)\n",
        "\n",
        "        return x\n",
        "\n",
        "# Create an instance of the CNN\n",
        "model = YourCNN()\n"
      ],
      "metadata": {
        "id": "mM1jYTrBgvmB"
      },
      "execution_count": null,
      "outputs": []
    },
    {
      "cell_type": "markdown",
      "source": [
        "# 2. Train your model using cow teat datasets (you may need to use  Google Colab (or Kaggle) with GPU to train your code)\n",
        "\n",
        "### (1) use torchvision.datasets.ImageFolder for the training dataset\n",
        "### (2) use custom dataloader for test dataset (return image tensor and file name)"
      ],
      "metadata": {
        "id": "shiUB29eggNN"
      }
    },
    {
      "cell_type": "code",
      "execution_count": null,
      "metadata": {
        "id": "cLKuHNgW4PZa"
      },
      "outputs": [],
      "source": [
        "# apply the image transformation\n",
        "transform = transforms.Compose([\n",
        "    transforms.Resize((75, 75)),\n",
        "    transforms.ToTensor(),\n",
        "    # transforms.Normalize((0.5,), (0.5,))\n",
        "])"
      ]
    },
    {
      "cell_type": "code",
      "execution_count": null,
      "metadata": {
        "id": "hzZiOZMEvT6l"
      },
      "outputs": [],
      "source": [
        "# Dataset\n",
        "dataset = torchvision.datasets.ImageFolder(root='Train/', transform=transform)\n",
        "# train size\n",
        "train_size = int(0.9 * len(dataset))\n",
        "# test size\n",
        "test_size = len(dataset) - train_size\n",
        "#  random_split to split the dataset\n",
        "train_dataset, test_dataset = random_split(dataset, [train_size, test_size])\n",
        "# size of the batch\n",
        "batch_size=4\n",
        "# train loader\n",
        "trainloader = torch.utils.data.DataLoader(train_dataset, batch_size=batch_size,\n",
        "                                          shuffle=True)\n",
        "# test loader\n",
        "testloader = torch.utils.data.DataLoader(test_dataset, batch_size=batch_size,\n",
        "                                          shuffle=False)\n",
        "# data loader\n",
        "dataloaders={'train':trainloader,'val':testloader}\n",
        "# dataset size\n",
        "dataset_sizes = {'train': len(train_dataset),'val':len(test_dataset)}\n",
        "class_names = dataset.classes"
      ]
    },
    {
      "cell_type": "code",
      "execution_count": null,
      "metadata": {
        "id": "3rBqnAqPTaYI"
      },
      "outputs": [],
      "source": [
        "from torch.optim import lr_scheduler\n",
        "# Loss function\n",
        "loss_fn = torch.nn.CrossEntropyLoss()"
      ]
    },
    {
      "cell_type": "code",
      "execution_count": null,
      "metadata": {
        "id": "o5sAoQ43UGOz"
      },
      "outputs": [],
      "source": [
        "# Optimizer\n",
        "optimizer = torch.optim.SGD(model.parameters(), lr=0.001, momentum=0.9,weight_decay = 0.0005)"
      ]
    },
    {
      "cell_type": "code",
      "execution_count": null,
      "metadata": {
        "id": "BamYnd6BUMYQ"
      },
      "outputs": [],
      "source": [
        "# scheduler\n",
        "scheduler = lr_scheduler.StepLR(optimizer, step_size=10, gamma=0.5)"
      ]
    },
    {
      "cell_type": "code",
      "execution_count": null,
      "metadata": {
        "colab": {
          "base_uri": "https://localhost:8080/"
        },
        "id": "Y8o3T-ryVz0g",
        "outputId": "4b9184b7-767f-4400-b548-f4d3fa800311"
      },
      "outputs": [
        {
          "output_type": "stream",
          "name": "stdout",
          "text": [
            "cpu\n",
            "SGD (\n",
            "Parameter Group 0\n",
            "    dampening: 0\n",
            "    differentiable: False\n",
            "    foreach: None\n",
            "    initial_lr: 0.001\n",
            "    lr: 0.001\n",
            "    maximize: False\n",
            "    momentum: 0.9\n",
            "    nesterov: False\n",
            "    weight_decay: 0.0005\n",
            ")\n"
          ]
        }
      ],
      "source": [
        "# Determine if the GPU is there\n",
        "device = torch.device(\"cuda\" if torch.cuda.is_available() else \"cpu\")\n",
        "print(device)\n",
        "\n",
        "# Move network and criterion to device\n",
        "model =model.to(device)\n",
        "loss_fn=loss_fn.to(device)\n",
        "print(optimizer)"
      ]
    },
    {
      "cell_type": "code",
      "source": [
        "# import the required libraries\n",
        "from sklearn.metrics import accuracy_score"
      ],
      "metadata": {
        "id": "laF0gP0DEoWI"
      },
      "execution_count": null,
      "outputs": []
    },
    {
      "cell_type": "code",
      "execution_count": null,
      "metadata": {
        "id": "-UptABFV3h6z"
      },
      "outputs": [],
      "source": [
        "epochs = 50"
      ]
    },
    {
      "cell_type": "code",
      "execution_count": null,
      "metadata": {
        "colab": {
          "base_uri": "https://localhost:8080/"
        },
        "id": "Osf3iqUT3onv",
        "outputId": "35f94efa-872b-4bad-f223-6f08f783eb5e"
      },
      "outputs": [
        {
          "output_type": "stream",
          "name": "stderr",
          "text": [
            "100%|██████████| 259/259 [00:22<00:00, 11.68it/s]\n"
          ]
        },
        {
          "output_type": "stream",
          "name": "stdout",
          "text": [
            "Validation loss occured : 0.00934916993846064\n",
            "The Accuarcy Score : tensor(0.4870)\n",
            " epoch:0 loss = 1.2688851476407375\n"
          ]
        },
        {
          "output_type": "stream",
          "name": "stderr",
          "text": [
            "100%|██████████| 259/259 [00:22<00:00, 11.74it/s]\n"
          ]
        },
        {
          "output_type": "stream",
          "name": "stdout",
          "text": [
            " epoch:1 loss = 1.1372151559280013\n"
          ]
        },
        {
          "output_type": "stream",
          "name": "stderr",
          "text": [
            "100%|██████████| 259/259 [00:22<00:00, 11.48it/s]\n"
          ]
        },
        {
          "output_type": "stream",
          "name": "stdout",
          "text": [
            " epoch:2 loss = 1.0726851555780008\n"
          ]
        },
        {
          "output_type": "stream",
          "name": "stderr",
          "text": [
            "100%|██████████| 259/259 [00:22<00:00, 11.30it/s]\n"
          ]
        },
        {
          "output_type": "stream",
          "name": "stdout",
          "text": [
            " epoch:3 loss = 1.034591292735456\n"
          ]
        },
        {
          "output_type": "stream",
          "name": "stderr",
          "text": [
            "100%|██████████| 259/259 [00:22<00:00, 11.42it/s]\n"
          ]
        },
        {
          "output_type": "stream",
          "name": "stdout",
          "text": [
            " epoch:4 loss = 1.0119798901694426\n"
          ]
        },
        {
          "output_type": "stream",
          "name": "stderr",
          "text": [
            "100%|██████████| 259/259 [00:21<00:00, 11.85it/s]\n"
          ]
        },
        {
          "output_type": "stream",
          "name": "stdout",
          "text": [
            " epoch:5 loss = 0.9821598735030892\n"
          ]
        },
        {
          "output_type": "stream",
          "name": "stderr",
          "text": [
            "100%|██████████| 259/259 [00:22<00:00, 11.40it/s]\n"
          ]
        },
        {
          "output_type": "stream",
          "name": "stdout",
          "text": [
            " epoch:6 loss = 0.9671299497901356\n"
          ]
        },
        {
          "output_type": "stream",
          "name": "stderr",
          "text": [
            "100%|██████████| 259/259 [00:22<00:00, 11.40it/s]\n"
          ]
        },
        {
          "output_type": "stream",
          "name": "stdout",
          "text": [
            " epoch:7 loss = 0.9599081275541501\n"
          ]
        },
        {
          "output_type": "stream",
          "name": "stderr",
          "text": [
            "100%|██████████| 259/259 [00:22<00:00, 11.39it/s]\n"
          ]
        },
        {
          "output_type": "stream",
          "name": "stdout",
          "text": [
            " epoch:8 loss = 0.9585471411507641\n"
          ]
        },
        {
          "output_type": "stream",
          "name": "stderr",
          "text": [
            "100%|██████████| 259/259 [00:22<00:00, 11.71it/s]\n"
          ]
        },
        {
          "output_type": "stream",
          "name": "stdout",
          "text": [
            " epoch:9 loss = 0.9386384694673107\n"
          ]
        },
        {
          "output_type": "stream",
          "name": "stderr",
          "text": [
            "100%|██████████| 259/259 [00:22<00:00, 11.41it/s]\n"
          ]
        },
        {
          "output_type": "stream",
          "name": "stdout",
          "text": [
            "Validation loss occured : 0.009427742336107338\n",
            "The Accuarcy Score : tensor(0.5739)\n",
            " epoch:10 loss = 0.9340466214794255\n"
          ]
        },
        {
          "output_type": "stream",
          "name": "stderr",
          "text": [
            "100%|██████████| 259/259 [00:22<00:00, 11.34it/s]\n"
          ]
        },
        {
          "output_type": "stream",
          "name": "stdout",
          "text": [
            " epoch:11 loss = 0.9273098429351526\n"
          ]
        },
        {
          "output_type": "stream",
          "name": "stderr",
          "text": [
            "100%|██████████| 259/259 [00:22<00:00, 11.34it/s]\n"
          ]
        },
        {
          "output_type": "stream",
          "name": "stdout",
          "text": [
            " epoch:12 loss = 0.9231027618944069\n"
          ]
        },
        {
          "output_type": "stream",
          "name": "stderr",
          "text": [
            "100%|██████████| 259/259 [00:22<00:00, 11.43it/s]\n"
          ]
        },
        {
          "output_type": "stream",
          "name": "stdout",
          "text": [
            " epoch:13 loss = 0.9177092523593275\n"
          ]
        },
        {
          "output_type": "stream",
          "name": "stderr",
          "text": [
            "100%|██████████| 259/259 [00:22<00:00, 11.75it/s]\n"
          ]
        },
        {
          "output_type": "stream",
          "name": "stdout",
          "text": [
            " epoch:14 loss = 0.917331073570067\n"
          ]
        },
        {
          "output_type": "stream",
          "name": "stderr",
          "text": [
            "100%|██████████| 259/259 [00:22<00:00, 11.39it/s]\n"
          ]
        },
        {
          "output_type": "stream",
          "name": "stdout",
          "text": [
            " epoch:15 loss = 0.9159769449289348\n"
          ]
        },
        {
          "output_type": "stream",
          "name": "stderr",
          "text": [
            "100%|██████████| 259/259 [00:22<00:00, 11.30it/s]\n"
          ]
        },
        {
          "output_type": "stream",
          "name": "stdout",
          "text": [
            " epoch:16 loss = 0.9111712331698065\n"
          ]
        },
        {
          "output_type": "stream",
          "name": "stderr",
          "text": [
            "100%|██████████| 259/259 [00:22<00:00, 11.33it/s]\n"
          ]
        },
        {
          "output_type": "stream",
          "name": "stdout",
          "text": [
            " epoch:17 loss = 0.9060280212350694\n"
          ]
        },
        {
          "output_type": "stream",
          "name": "stderr",
          "text": [
            "100%|██████████| 259/259 [00:22<00:00, 11.61it/s]\n"
          ]
        },
        {
          "output_type": "stream",
          "name": "stdout",
          "text": [
            " epoch:18 loss = 0.9052957762140831\n"
          ]
        },
        {
          "output_type": "stream",
          "name": "stderr",
          "text": [
            "100%|██████████| 259/259 [00:22<00:00, 11.54it/s]\n"
          ]
        },
        {
          "output_type": "stream",
          "name": "stdout",
          "text": [
            " epoch:19 loss = 0.8989207101283267\n"
          ]
        },
        {
          "output_type": "stream",
          "name": "stderr",
          "text": [
            "100%|██████████| 259/259 [00:22<00:00, 11.34it/s]\n"
          ]
        },
        {
          "output_type": "stream",
          "name": "stdout",
          "text": [
            "Validation loss occured : 0.011012695146643598\n",
            "The Accuarcy Score : tensor(0.6000)\n",
            " epoch:20 loss = 0.8935078535250585\n"
          ]
        },
        {
          "output_type": "stream",
          "name": "stderr",
          "text": [
            "100%|██████████| 259/259 [00:22<00:00, 11.30it/s]\n"
          ]
        },
        {
          "output_type": "stream",
          "name": "stdout",
          "text": [
            " epoch:21 loss = 0.8879318882925598\n"
          ]
        },
        {
          "output_type": "stream",
          "name": "stderr",
          "text": [
            "100%|██████████| 259/259 [00:22<00:00, 11.35it/s]\n"
          ]
        },
        {
          "output_type": "stream",
          "name": "stdout",
          "text": [
            " epoch:22 loss = 0.8909953980196836\n"
          ]
        },
        {
          "output_type": "stream",
          "name": "stderr",
          "text": [
            "100%|██████████| 259/259 [00:22<00:00, 11.66it/s]\n"
          ]
        },
        {
          "output_type": "stream",
          "name": "stdout",
          "text": [
            " epoch:23 loss = 0.8860412936376649\n"
          ]
        },
        {
          "output_type": "stream",
          "name": "stderr",
          "text": [
            "100%|██████████| 259/259 [00:22<00:00, 11.44it/s]\n"
          ]
        },
        {
          "output_type": "stream",
          "name": "stdout",
          "text": [
            " epoch:24 loss = 0.883364885180785\n"
          ]
        },
        {
          "output_type": "stream",
          "name": "stderr",
          "text": [
            "100%|██████████| 259/259 [00:22<00:00, 11.32it/s]\n"
          ]
        },
        {
          "output_type": "stream",
          "name": "stdout",
          "text": [
            " epoch:25 loss = 0.8822350235695534\n"
          ]
        },
        {
          "output_type": "stream",
          "name": "stderr",
          "text": [
            "100%|██████████| 259/259 [00:22<00:00, 11.31it/s]\n"
          ]
        },
        {
          "output_type": "stream",
          "name": "stdout",
          "text": [
            " epoch:26 loss = 0.8792186238779551\n"
          ]
        },
        {
          "output_type": "stream",
          "name": "stderr",
          "text": [
            "100%|██████████| 259/259 [00:22<00:00, 11.34it/s]\n"
          ]
        },
        {
          "output_type": "stream",
          "name": "stdout",
          "text": [
            " epoch:27 loss = 0.8812311518814854\n"
          ]
        },
        {
          "output_type": "stream",
          "name": "stderr",
          "text": [
            "100%|██████████| 259/259 [00:22<00:00, 11.75it/s]\n"
          ]
        },
        {
          "output_type": "stream",
          "name": "stdout",
          "text": [
            " epoch:28 loss = 0.885746882316914\n"
          ]
        },
        {
          "output_type": "stream",
          "name": "stderr",
          "text": [
            "100%|██████████| 259/259 [00:22<00:00, 11.34it/s]\n"
          ]
        },
        {
          "output_type": "stream",
          "name": "stdout",
          "text": [
            " epoch:29 loss = 0.8746081405036454\n"
          ]
        },
        {
          "output_type": "stream",
          "name": "stderr",
          "text": [
            "100%|██████████| 259/259 [00:22<00:00, 11.34it/s]\n"
          ]
        },
        {
          "output_type": "stream",
          "name": "stdout",
          "text": [
            "Validation loss occured : 0.012048996013143787\n",
            "The Accuarcy Score : tensor(0.5739)\n",
            " epoch:30 loss = 0.869737998198725\n"
          ]
        },
        {
          "output_type": "stream",
          "name": "stderr",
          "text": [
            "100%|██████████| 259/259 [00:22<00:00, 11.33it/s]\n"
          ]
        },
        {
          "output_type": "stream",
          "name": "stdout",
          "text": [
            " epoch:31 loss = 0.8662034387284137\n"
          ]
        },
        {
          "output_type": "stream",
          "name": "stderr",
          "text": [
            "100%|██████████| 259/259 [00:22<00:00, 11.36it/s]\n"
          ]
        },
        {
          "output_type": "stream",
          "name": "stdout",
          "text": [
            " epoch:32 loss = 0.8678031201749983\n"
          ]
        },
        {
          "output_type": "stream",
          "name": "stderr",
          "text": [
            "100%|██████████| 259/259 [00:22<00:00, 11.66it/s]\n"
          ]
        },
        {
          "output_type": "stream",
          "name": "stdout",
          "text": [
            " epoch:33 loss = 0.8657478554105851\n"
          ]
        },
        {
          "output_type": "stream",
          "name": "stderr",
          "text": [
            "100%|██████████| 259/259 [00:22<00:00, 11.35it/s]\n"
          ]
        },
        {
          "output_type": "stream",
          "name": "stdout",
          "text": [
            " epoch:34 loss = 0.8660697045824284\n"
          ]
        },
        {
          "output_type": "stream",
          "name": "stderr",
          "text": [
            "100%|██████████| 259/259 [00:22<00:00, 11.28it/s]\n"
          ]
        },
        {
          "output_type": "stream",
          "name": "stdout",
          "text": [
            " epoch:35 loss = 0.8648878832273834\n"
          ]
        },
        {
          "output_type": "stream",
          "name": "stderr",
          "text": [
            "100%|██████████| 259/259 [00:22<00:00, 11.34it/s]\n"
          ]
        },
        {
          "output_type": "stream",
          "name": "stdout",
          "text": [
            " epoch:36 loss = 0.8641359960548651\n"
          ]
        },
        {
          "output_type": "stream",
          "name": "stderr",
          "text": [
            "100%|██████████| 259/259 [00:22<00:00, 11.60it/s]\n"
          ]
        },
        {
          "output_type": "stream",
          "name": "stdout",
          "text": [
            " epoch:37 loss = 0.8626933805716568\n"
          ]
        },
        {
          "output_type": "stream",
          "name": "stderr",
          "text": [
            "100%|██████████| 259/259 [00:22<00:00, 11.43it/s]\n"
          ]
        },
        {
          "output_type": "stream",
          "name": "stdout",
          "text": [
            " epoch:38 loss = 0.8617049864343794\n"
          ]
        },
        {
          "output_type": "stream",
          "name": "stderr",
          "text": [
            "100%|██████████| 259/259 [00:22<00:00, 11.34it/s]\n"
          ]
        },
        {
          "output_type": "stream",
          "name": "stdout",
          "text": [
            " epoch:39 loss = 0.8630074493197916\n"
          ]
        },
        {
          "output_type": "stream",
          "name": "stderr",
          "text": [
            "100%|██████████| 259/259 [00:22<00:00, 11.32it/s]\n"
          ]
        },
        {
          "output_type": "stream",
          "name": "stdout",
          "text": [
            "Validation loss occured : 0.012524311438850735\n",
            "The Accuarcy Score : tensor(0.5826)\n",
            " epoch:40 loss = 0.8576638436870834\n"
          ]
        },
        {
          "output_type": "stream",
          "name": "stderr",
          "text": [
            "100%|██████████| 259/259 [00:22<00:00, 11.30it/s]\n"
          ]
        },
        {
          "output_type": "stream",
          "name": "stdout",
          "text": [
            " epoch:41 loss = 0.8562711441539934\n"
          ]
        },
        {
          "output_type": "stream",
          "name": "stderr",
          "text": [
            "100%|██████████| 259/259 [00:22<00:00, 11.72it/s]\n"
          ]
        },
        {
          "output_type": "stream",
          "name": "stdout",
          "text": [
            " epoch:42 loss = 0.8565934272753201\n"
          ]
        },
        {
          "output_type": "stream",
          "name": "stderr",
          "text": [
            "100%|██████████| 259/259 [00:22<00:00, 11.36it/s]\n"
          ]
        },
        {
          "output_type": "stream",
          "name": "stdout",
          "text": [
            " epoch:43 loss = 0.856121892394134\n"
          ]
        },
        {
          "output_type": "stream",
          "name": "stderr",
          "text": [
            "100%|██████████| 259/259 [00:22<00:00, 11.33it/s]\n"
          ]
        },
        {
          "output_type": "stream",
          "name": "stdout",
          "text": [
            " epoch:44 loss = 0.8544553699299722\n"
          ]
        },
        {
          "output_type": "stream",
          "name": "stderr",
          "text": [
            "100%|██████████| 259/259 [00:22<00:00, 11.31it/s]\n"
          ]
        },
        {
          "output_type": "stream",
          "name": "stdout",
          "text": [
            " epoch:45 loss = 0.8535283352005182\n"
          ]
        },
        {
          "output_type": "stream",
          "name": "stderr",
          "text": [
            "100%|██████████| 259/259 [00:22<00:00, 11.30it/s]\n"
          ]
        },
        {
          "output_type": "stream",
          "name": "stdout",
          "text": [
            " epoch:46 loss = 0.8552651444532885\n"
          ]
        },
        {
          "output_type": "stream",
          "name": "stderr",
          "text": [
            "100%|██████████| 259/259 [00:22<00:00, 11.72it/s]\n"
          ]
        },
        {
          "output_type": "stream",
          "name": "stdout",
          "text": [
            " epoch:47 loss = 0.8530519646187124\n"
          ]
        },
        {
          "output_type": "stream",
          "name": "stderr",
          "text": [
            "100%|██████████| 259/259 [00:22<00:00, 11.27it/s]\n"
          ]
        },
        {
          "output_type": "stream",
          "name": "stdout",
          "text": [
            " epoch:48 loss = 0.8517969745270749\n"
          ]
        },
        {
          "output_type": "stream",
          "name": "stderr",
          "text": [
            "100%|██████████| 259/259 [00:22<00:00, 11.29it/s]"
          ]
        },
        {
          "output_type": "stream",
          "name": "stdout",
          "text": [
            " epoch:49 loss = 0.8528034661102111\n"
          ]
        },
        {
          "output_type": "stream",
          "name": "stderr",
          "text": [
            "\n"
          ]
        }
      ],
      "source": [
        "# looping construct\n",
        "for epoch in range(epochs):\n",
        "    model.train()\n",
        "    epoch_loss =0\n",
        "    for j,data in tqdm(enumerate(trainloader),total=len(trainloader)):\n",
        "\n",
        "        inputs,labels = data\n",
        "        inputs = inputs.to(device)\n",
        "        labels = labels.to(device)\n",
        "        optimizer.zero_grad()\n",
        "        outputs = model(inputs)\n",
        "        loss = loss_fn(outputs, labels)\n",
        "        loss.backward()\n",
        "        optimizer.step()\n",
        "\n",
        "# epoch loss\n",
        "        epoch_loss = epoch_loss+ loss.item()* inputs.size(0)\n",
        "    scheduler.step()\n",
        "    if epoch%10==0:\n",
        "      with torch.no_grad():\n",
        "\n",
        "        model.eval()\n",
        "        val_loss =0\n",
        "        corrects=0\n",
        "        for k,data in enumerate(testloader):\n",
        "          inputs,labels = data\n",
        "          inputs = inputs.to(device)\n",
        "          labels = labels.to(device)\n",
        "          outputs = model(inputs)\n",
        "          _, preds = torch.max(outputs, 1)\n",
        "          loss = loss_fn(outputs,labels)\n",
        "          val_loss = val_loss + loss.item()*inputs.size(0)\n",
        "          corrects += torch.sum(preds == labels.data)\n",
        "\n",
        "        print('Validation loss occured :',loss.item()/len(test_dataset))\n",
        "\n",
        "        print('The Accuarcy Score :',corrects/len(test_dataset))\n",
        "\n",
        "    print(f' epoch:{epoch} loss =',epoch_loss/len(train_dataset))\n"
      ]
    },
    {
      "cell_type": "code",
      "source": [
        "# The final Test\n",
        "final_test = torchvision.datasets.ImageFolder(root='Test/', transform=transform)"
      ],
      "metadata": {
        "id": "hfh027wEd8_s"
      },
      "execution_count": null,
      "outputs": []
    },
    {
      "cell_type": "code",
      "source": [
        "# The final loader\n",
        "final_loader = torch.utils.data.DataLoader(final_test, batch_size=1,\n",
        "                                          shuffle=False)"
      ],
      "metadata": {
        "id": "p8OlUg6nd9z_"
      },
      "execution_count": null,
      "outputs": []
    },
    {
      "cell_type": "code",
      "source": [
        "file_names=[]\n",
        "predictions =[]"
      ],
      "metadata": {
        "id": "H5ycBdieeBHu"
      },
      "execution_count": null,
      "outputs": []
    },
    {
      "cell_type": "code",
      "source": [
        "with torch.no_grad():\n",
        "      model.eval()\n",
        "      for k,data in enumerate(final_loader):\n",
        "        inputs,_ = data\n",
        "        inputs = inputs.to(device)\n",
        "        fname, _ = final_loader.dataset.samples[k]\n",
        "        file_names.append(fname.split('/')[-1])\n",
        "        outputs = model(inputs)\n",
        "        _, preds = torch.max(outputs, 1)\n",
        "        predictions.append(preds.detach().cpu().numpy()[0])\n",
        "print(predictions)"
      ],
      "metadata": {
        "colab": {
          "base_uri": "https://localhost:8080/"
        },
        "id": "j_lrXUXGeD2e",
        "outputId": "98410b2a-09e2-4018-fe53-49e677b2cbcf"
      },
      "execution_count": null,
      "outputs": [
        {
          "output_type": "stream",
          "name": "stdout",
          "text": [
            "[0, 0, 0, 0, 0, 0, 0, 0, 0, 1, 0, 0, 0, 1, 1, 0, 1, 1, 0, 0, 0, 1, 0, 0, 0, 0, 0, 0, 1, 0, 0, 1, 1, 1, 0, 0, 0, 0, 0, 0, 1, 0, 0, 0, 0, 0, 0, 0, 1, 0, 0, 0, 1, 1, 0, 0, 0, 1, 0, 0, 0, 1, 0, 0, 0, 0, 1, 0, 0, 0, 0, 0, 0, 1, 0, 0, 0, 0, 0, 0, 0, 0, 0, 1, 0, 0, 0, 0, 0, 0, 0, 0, 0, 0, 0, 0, 1, 0, 0, 0, 0, 1, 0, 0, 0, 0, 0, 1, 0, 0, 0, 0, 0, 0, 0, 0, 0, 0, 0, 0, 0, 0, 0, 0, 0, 0, 0, 0, 0, 0, 0, 0, 0, 0, 0, 0, 0, 0, 0, 0, 0, 1, 1, 0, 0, 0, 0, 0, 0, 0, 0, 0, 0, 0, 0, 0, 0, 0, 0, 0, 1, 1, 0, 0, 0, 0, 0, 0, 0, 0, 0, 0, 0, 0, 1, 0, 0, 0, 0, 0, 0, 1, 0, 0, 0, 0, 0, 0, 0, 0, 0, 0, 0, 1, 1, 1, 1, 1, 1, 1, 1, 1, 1, 1, 1, 1, 1, 1, 1, 1, 1, 1, 1, 1, 1, 1, 1, 1, 1, 1, 1, 1, 1, 1, 1, 1, 1, 1, 1, 1, 1, 1, 1, 1, 1, 1, 1, 1, 1, 1, 1, 0, 1, 1, 1, 1, 1, 1, 1, 1, 1, 1, 1, 1, 1, 1, 1, 1, 1, 1, 1, 1, 1, 1, 1, 1, 1, 1, 1, 1, 1, 1, 1, 1, 1, 0, 1, 1, 1, 1, 1, 1, 1, 1, 1, 1, 1, 1, 1, 1, 1, 1, 1, 1, 1, 1, 1, 1, 1, 1, 1, 1, 1, 1, 1, 1, 1, 1, 1, 1, 1, 1, 1, 1, 1, 1, 1, 1, 1, 1, 1, 1, 1, 1, 1, 1, 1, 1, 1, 1, 1, 1, 1, 1, 1, 1, 1, 1, 1, 1, 1, 1, 0, 1, 1, 1, 0, 1, 1, 1, 1, 1, 1, 1, 1, 1, 1, 1, 1, 1, 1, 1, 1, 1, 1, 1, 1, 1, 1, 1, 1, 1, 1, 1, 1, 1, 1, 1, 1, 1]\n"
          ]
        }
      ]
    },
    {
      "cell_type": "markdown",
      "source": [
        "# 3. Evaluate your model using the developed software"
      ],
      "metadata": {
        "id": "ZdSnHSnLhEfj"
      }
    },
    {
      "cell_type": "code",
      "source": [
        "# Dataframe\n",
        "df = pd.DataFrame(list(zip(file_names,predictions)))\n",
        "df\n",
        "df.to_csv('final_result.csv',index=False,header=False)"
      ],
      "metadata": {
        "id": "_oDyfKTqePBt"
      },
      "execution_count": null,
      "outputs": []
    },
    {
      "cell_type": "code",
      "source": [
        "# read the image\n",
        "image = cv2.imread('The_Image.png')"
      ],
      "metadata": {
        "id": "LUPOBBREenMh"
      },
      "execution_count": 20,
      "outputs": []
    },
    {
      "cell_type": "code",
      "source": [
        "# plot the Figure\n",
        "plt.figure(figsize=(12,12))\n",
        "plt.imshow(image)"
      ],
      "metadata": {
        "colab": {
          "base_uri": "https://localhost:8080/",
          "height": 908
        },
        "id": "b2Y6Y8b4erRF",
        "outputId": "828b6613-07b0-4c5b-8763-922e3c78ef70"
      },
      "execution_count": 21,
      "outputs": [
        {
          "output_type": "execute_result",
          "data": {
            "text/plain": [
              "<matplotlib.image.AxesImage at 0x7b41d4abb460>"
            ]
          },
          "metadata": {},
          "execution_count": 21
        },
        {
          "output_type": "display_data",
          "data": {
            "text/plain": [
              "<Figure size 1200x1200 with 1 Axes>"
            ],
            "image/png": "[encoded data removed]"
          },
          "metadata": {}
        }
      ]
    },
    {
      "cell_type": "markdown",
      "source": [
        "# 4. Compare results with [SCTL paper](https://www.mdpi.com/2076-2615/12/7/886/htm). Requirement: performance is better than VGG16: 66.8%"
      ],
      "metadata": {
        "id": "ouxxYZgOhdK3"
      }
    },
    {
      "cell_type": "code",
      "source": [
        "The obtained accuracy is around 60%."
      ],
      "metadata": {
        "id": "2jMjTOBKhfGv"
      },
      "execution_count": null,
      "outputs": []
    },
    {
      "cell_type": "markdown",
      "source": [
        "# 5. Write a four-page paper report using the shared LaTex template. Upload your paper to ResearchGate or Arxiv, and put your paper link here."
      ],
      "metadata": {
        "id": "a5a_aLWFhzG9"
      }
    },
    {
      "cell_type": "markdown",
      "source": [
        "https://www.researchgate.net/publication/375491139_Dairy_Cows_Teat-End_Classification_using_Deep_Learning"
      ],
      "metadata": {
        "id": "KhdJ_U5xmPBR"
      }
    },
    {
      "cell_type": "code",
      "source": [],
      "metadata": {
        "id": "aEYAKbS5mQqU"
      },
      "execution_count": null,
      "outputs": []
    }
  ],
  "metadata": {
    "colab": {
      "provenance": []
    },
    "kernelspec": {
      "display_name": "Python 3",
      "name": "python3"
    },
    "language_info": {
      "name": "python"
    }
  },
  "nbformat": 4,
  "nbformat_minor": 0
}